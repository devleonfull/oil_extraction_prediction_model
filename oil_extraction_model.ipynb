{
 "cells": [
  {
   "cell_type": "markdown",
   "metadata": {},
   "source": [
    "# OilyGiant: oil extraction prediction model"
   ]
  },
  {
   "cell_type": "markdown",
   "metadata": {},
   "source": [
    "The company has invested in geological exploration, our goal is help them to decide which region (there are a total of three but could be more) will probably have the most profitable operation. Let's start by loading dependencies and defining some constants:"
   ]
  },
  {
   "cell_type": "markdown",
   "metadata": {},
   "source": [
    "## Dependencies  and constants"
   ]
  },
  {
   "cell_type": "code",
   "execution_count": 17,
   "metadata": {},
   "outputs": [],
   "source": [
    "import pandas as pd\n",
    "from sklearn.linear_model import LinearRegression\n",
    "from sklearn.model_selection import GridSearchCV, train_test_split\n",
    "from sklearn.pipeline import Pipeline\n",
    "from numpy.random import RandomState\n",
    "from sklearn.preprocessing import StandardScaler\n",
    "from sklearn.metrics import mean_squared_error, r2_score\n",
    "import matplotlib.pyplot as plt\n",
    "import scipy.stats as st\n",
    "\n",
    "DEBBUG = 1\n",
    "\n",
    "# file start index, files' names follow an index rule \n",
    "F_START = 0\n",
    "F_END = 2\n",
    "\n",
    "# NUM_TYPES is a list of valid ordinal types\n",
    "NUM_TYPES = ('float64', 'int')\n",
    "\n",
    "#NON_ORDINAL defines column names to be ignored as ordinal values\n",
    "IGNORE_ORDINAL = ('id', 'phone')\n",
    "\n",
    "# Path where our analysis are located\n",
    "GEO_PATH = 'data'\n",
    "\n",
    "# All files must start with 'geo_data'\n",
    "FILE_SUB = 'geo_data'\n",
    "\n",
    "# Random state for replication assurance\n",
    "RND_ST = 12345\n",
    "\n",
    "FEATURES = ['f0', 'f1' ,'f2']\n",
    "\n",
    "FILES = [f'{GEO_PATH}/{FILE_SUB}_{i}.csv' for i in range(F_START, F_END+1)]\n",
    "\n",
    "\n",
    "\n",
    "\n"
   ]
  },
  {
   "cell_type": "markdown",
   "metadata": {},
   "source": [
    "## Functions and classes"
   ]
  },
  {
   "cell_type": "markdown",
   "metadata": {},
   "source": [
    "The following analysis is intendeed to be performed in a undefined amount of geological exploration tables. In order to achieve this goal we will define some particular functions that will be used to summarize and group tasks into commun contexts."
   ]
  },
  {
   "cell_type": "markdown",
   "metadata": {},
   "source": [
    "### Functions"
   ]
  },
  {
   "cell_type": "code",
   "execution_count": 18,
   "metadata": {},
   "outputs": [],
   "source": [
    "### DEPRECATED THIS FUNCTION HAS BEEN DEPRECATED. NEVER USED\n",
    "def load_dataframe(path):\n",
    "    \"\"\"\n",
    "    This function returns a dataframe loaded from a specific path\n",
    "    \n",
    "    Args: \n",
    "        path: path where the file is located (ONLY CSV)\n",
    "    \n",
    "    Returns:\n",
    "        dataframe loaded or string error message\n",
    "        \"\"\"\n",
    "    try:\n",
    "        return pd.read_csv(path)\n",
    "    except:\n",
    "        print(\"Has been an error loading data located in\",path)\n",
    "        \n",
    "### DEPRECATED, FUNCTION NEVER USED\n",
    "def get_basic(file, df):\n",
    "    i = file\n",
    "    cols = df.columns\n",
    "    \n",
    "    info = pd.DataFrame(columns=['duplicates_qty', ]+\n",
    "                                      [col_i+'_null_qty' for col_i in cols]+\n",
    "                                      [col_i+'_data_type' for col_i in cols]\n",
    "                        )\n",
    "\n",
    "    \n",
    "    info.loc[i, 'duplicates_qty'] = df.duplicated().sum()\n",
    "\n",
    "    for col in cols:\n",
    "        info.loc[i, col+'_null_qty'] = df[col].isnull().sum()\n",
    "        info.loc[i, col+'_data_type'] = df[col].dtype\n",
    "        \n",
    "    return info.to_string()\n",
    "\n",
    "\n",
    "def get_ordinal_cols(df):\n",
    "    dtypes = dict(df.dtypes)\n",
    "    return [col for col, dtype in dtypes.items() if dtype in NUM_TYPES and  dtype not in IGNORE_ORDINAL]\n",
    "\n",
    "\n",
    "\n",
    "def multi_plot(file, df, plot_type, ord_cols, plt_cols=2):\n",
    "    ord_cols = get_ordinal_cols(df)\n",
    "    if len(ord_cols)==0:\n",
    "        print('No ordinal variables')\n",
    "        return False\n",
    "\n",
    "    plt_rows = len(ord_cols)//plt_cols + (0 if len(ord_cols)%plt_cols==0 else 1)\n",
    "        \n",
    "    for i, col in enumerate(ord_cols):\n",
    "        fig = plt.subplot(plt_rows, plt_cols, i+1)\n",
    "        df[col].plot(kind=plot_type, title=col)\n",
    "\n",
    "    plt.tight_layout()\n",
    "    plt.suptitle(file)\n",
    "    plt.show()\n",
    "    \n",
    "\n",
    "def hist(file, df):\n",
    "     multi_plot(file, df, 'hist', 2)\n",
    "\n",
    "        \n",
    "def kde(file, df):\n",
    "    multi_plot(file, df, 'kde', 2)\n",
    "\n",
    "        \n",
    "def box_plot(file, df):\n",
    "    multi_plot(file, df, 'box', 2)\n",
    "    \n",
    "    \n",
    "if DEBBUG:\n",
    "    pass\n",
    "#     print(get_ordinal_cols([*dataframes.values()][0]))\n",
    "#     box_plot('debbug', [*dfs.values()][0])\n",
    "    \n",
    " \n",
    "\n"
   ]
  },
  {
   "cell_type": "markdown",
   "metadata": {},
   "source": [
    "### Classes"
   ]
  },
  {
   "cell_type": "code",
   "execution_count": 19,
   "metadata": {},
   "outputs": [],
   "source": [
    "class ValData():\n",
    "    ft = None\n",
    "    tar = None\n",
    "    \n",
    "    def __init__(self, featu, tar):\n",
    "        self.ft = featu\n",
    "        self.tar= tar\n",
    "        \n",
    "    def summary(self):\n",
    "        print('Validation set description')\n",
    "        print('Features:')\n",
    "        print(self.ft.describe())\n",
    "        print('\\n'*2)\n",
    "        print('Target:')\n",
    "        print(self.tar.describe())\n",
    "    \n",
    "    def scale(self, scaler, cols):\n",
    "        self.ft = scaler.transform(self.ft[cols])\n",
    "        self.ft = pd.DataFrame(self.ft, columns=cols)\n",
    "        \n",
    "class TrData():\n",
    "    ft = None\n",
    "    tar = None\n",
    "    scaler = None\n",
    "   \n",
    "    def __init__(self, featu, tar):\n",
    "        self.ft = featu\n",
    "        self.tar = tar\n",
    "    \n",
    "    def scale(self, cols):\n",
    "        self.scaler = StandardScaler()\n",
    "        self.scaler = self.scaler.fit(self.ft[cols])\n",
    "        self.ft = self.scaler.transform(self.ft[cols])\n",
    "        self.ft = pd.DataFrame(self.ft, columns=cols)\n",
    "        \n",
    "    def get_scaler(self):\n",
    "        return self.scaler\n",
    "    \n",
    "    def summary(self):\n",
    "        print('Training set description')\n",
    "        print('Features:')\n",
    "        print(self.ft.describe())\n",
    "        print('\\n'*2)\n",
    "        print('Target:')\n",
    "        print(self.tar.describe())\n",
    "    \n",
    "        \n",
    "class TVData():\n",
    "    val = None\n",
    "    tr = None\n",
    "    scaler = None\n",
    "    \n",
    "    def __init__(self):\n",
    "        self.val = None\n",
    "        self.tr = None\n",
    "    \n",
    "    def split(self, featu, tar, size=0.25):\n",
    "        tr_ft, vl_ft, tr_tar, vl_tar = train_test_split(featu, tar, test_size=size, random_state = RND_ST)\n",
    "        self.set_tr_vl(tr_ft, vl_ft, tr_tar, vl_tar)\n",
    "\n",
    "    def set_tr_vl(self, tr_ft, vl_ft, tr_tar, vl_tar):\n",
    "        self.val = ValData(vl_ft, vl_tar)\n",
    "        self.tr = TrData(tr_ft, tr_tar)\n",
    "        \n",
    "    def scale(self, cols):\n",
    "        self.tr.scale(cols)\n",
    "        scaler = self.tr.get_scaler()\n",
    "        self.val.scale(scaler, cols)\n",
    "\n",
    "        \n",
    "    \n",
    "    def get_summary(self):\n",
    "        self.val.summary()\n",
    "        print('\\n'*2,'***'*10, '\\n'*2)\n",
    "        self.tr.summary()\n",
    "        \n",
    "        \n",
    "class DevLeCrossValidation():\n",
    "    current_tv = None\n",
    "    cross_v_score = []\n",
    "    \n",
    "    model = None\n",
    "    featu = None\n",
    "    tar = None\n",
    "    scaled = False\n",
    "\n",
    "    def __init__(self, model, featu, tar, scaled:bool):\n",
    "        self.model = model\n",
    "        self.featu = featu\n",
    "        self.tar = tar\n",
    "        self.scaled = scaled\n",
    "\n",
    "    # v is a boolean parameter that means verbose, when True it prints the process\n",
    "    def perform(self,  n=5, v=False):\n",
    "        sample_size = int(len(self.featu)/ n)\n",
    "        \n",
    "        for i in range(0, len(self.featu)-1, sample_size):\n",
    "            \n",
    "            vl_ft = self.featu.iloc[i:i+sample_size]\n",
    "            vl_tar = self.tar[vl_ft.index]\n",
    "            \n",
    "            tr_ft = self.featu.query('index not in @vl_ft.index')\n",
    "            tr_tar = self.tar[tr_ft.index]\n",
    "\n",
    "        \n",
    "            self.current_tv = TVData()\n",
    "            self.current_tv.set_tr_vl(tr_ft, vl_ft, tr_tar, vl_tar)\n",
    "            cols = get_ordinal_cols(self.current_tv.tr.ft)\n",
    "\n",
    "            if self.scaled == True:\n",
    "                self.current_tv.scale(cols)\n",
    "            \n",
    "            if v:\n",
    "                print(self.current_tv.get_summary())\n",
    "            \n",
    "            self.__train(cols)\n",
    "            self.__score()\n",
    "        \n",
    "           \n",
    "    def __score(self):\n",
    "        pred = self.model.predict(self.current_tv.val.ft)\n",
    "        result = self.current_tv.val.tar\n",
    "        self.cross_v_score.append( mean_squared_error(result, pred))\n",
    "        \n",
    "    def __train(self, cols):\n",
    "        self.model.fit(pd.DataFrame(self.current_tv.tr.ft, columns=cols), self.current_tv.tr.tar)\n",
    "    \n",
    "    def get_score(self, ):\n",
    "        if len(self.cross_v_score)==0:\n",
    "            self.perform()\n",
    "        return sum(self.cross_v_score)/len(self.cross_v_score)\n",
    "    \n",
    "   \n",
    "    def set_data(self, featu, tar):\n",
    "        self.data = TVData()\n",
    "        self.data.split(featu, tar)\n",
    "    \n",
    "    \n",
    "class BlackBoxModel():\n",
    "    model = None\n",
    "    data = None\n",
    "    score = None\n",
    "    predicted = None\n",
    "\n",
    "    def __init__(self, model):\n",
    "        self.model = model\n",
    "\n",
    "    def load_data(self, featu, tar):\n",
    "        self.data  = TVData()\n",
    "        self.data.split(featu, tar)\n",
    "\n",
    "    def scale_data(self):\n",
    "        self.data.scale(get_ordinal_cols(self.data.tr.ft))\n",
    "\n",
    "    def predict(self, featu = None):\n",
    "        if type(featu)!= type(None):\n",
    "            self.predicted = self.model.predict(featu)\n",
    "        else:\n",
    "            self.predicted = self.model.predict(self.data.val.ft)\n",
    "        return self.predicted\n",
    "\n",
    "    def get_trained_model(self):\n",
    "        return self.model\n",
    "\n",
    "    def fit(self):\n",
    "        self.model.fit(self.data.tr.ft, self.data.tr.tar)\n",
    "\n",
    "    def r2_score(self):\n",
    "        return r2_score(self.data.val.tar, self.model.predict(self.data.val.ft))\n",
    "    \n",
    "    def mse_score(self):\n",
    "        return mean_squared_error(self.data.val.tar, self.model.predict(self.data.val.ft))\n",
    "\n",
    "\n",
    "class FinancialEstimatior():\n",
    "    costs = 100_000_000\n",
    "    extr_pts = 200\n",
    "    product_units = 1000\n",
    "    benefit = 4.5\n",
    "    \n",
    "    geo_data = None\n",
    "    \n",
    "    \n",
    "    def revenue(self, geo_data):\n",
    "        self.geo_data = geo_data\n",
    "        \n",
    "        top_200 = self.geo_data.sort_values(by='product_predicted', ascending=False)[0:self.extr_pts].index\n",
    "        \n",
    "        self.geo_data = self.geo_data.iloc[top_200].copy()\n",
    "        \n",
    "        self.geo_data['revenue'] = self.geo_data['product']*self.product_units*self.benefit\n",
    "        self.geo_data['predicted_revenue'] = self.geo_data['product_predicted']*self.product_units*self.benefit\n",
    "\n",
    "        return [self.geo_data, self.geo_data['revenue'].sum()-self.costs] \n",
    "    \n",
    "    \n",
    "    def bootstrap_revenue(self, geo_data, indexes):\n",
    "        self.geo_data = geo_data\n",
    "        \n",
    "        top_200 = self.geo_data.iloc[indexes].sort_values(by='product_predicted', ascending=False)[0:self.extr_pts].index\n",
    "        \n",
    "        self.geo_data = self.geo_data.iloc[top_200].copy()\n",
    "        \n",
    "        self.geo_data['revenue'] = self.geo_data['product']*self.product_units*self.benefit\n",
    "        self.geo_data['predicted_revenue'] = self.geo_data['product_predicted']*self.product_units*self.benefit\n",
    "\n",
    "        return [self.geo_data, self.geo_data['revenue'].sum()-self.costs] \n"
   ]
  },
  {
   "cell_type": "markdown",
   "metadata": {},
   "source": [
    "## Loading data: "
   ]
  },
  {
   "cell_type": "code",
   "execution_count": 20,
   "metadata": {},
   "outputs": [],
   "source": [
    "dfs = dict()\n",
    "for path in FILES:\n",
    "    try:\n",
    "        file =  pd.read_csv(path)\n",
    "    except:\n",
    "        print(\"Has been an error loading data located in\",path)\n",
    "        \n",
    "    dfs.update({path:file})\n"
   ]
  },
  {
   "cell_type": "markdown",
   "metadata": {},
   "source": [
    "## Exploratory data analysis:"
   ]
  },
  {
   "cell_type": "markdown",
   "metadata": {},
   "source": [
    "Let's check column data types and dulicates so we can address them in case they exist."
   ]
  },
  {
   "cell_type": "code",
   "execution_count": 21,
   "metadata": {},
   "outputs": [
    {
     "name": "stdout",
     "output_type": "stream",
     "text": [
      "data/geo_data_0.csv\n",
      "                    duplicates_qty id_null_qty f0_null_qty f1_null_qty f2_null_qty product_null_qty id_data_type f0_data_type f1_data_type f2_data_type product_data_type\n",
      "data/geo_data_0.csv              0           0           0           0           0                0       object      float64      float64      float64           float64\n",
      "data/geo_data_1.csv\n",
      "                    duplicates_qty id_null_qty f0_null_qty f1_null_qty f2_null_qty product_null_qty id_data_type f0_data_type f1_data_type f2_data_type product_data_type\n",
      "data/geo_data_1.csv              0           0           0           0           0                0       object      float64      float64      float64           float64\n",
      "data/geo_data_2.csv\n",
      "                    duplicates_qty id_null_qty f0_null_qty f1_null_qty f2_null_qty product_null_qty id_data_type f0_data_type f1_data_type f2_data_type product_data_type\n",
      "data/geo_data_2.csv              0           0           0           0           0                0       object      float64      float64      float64           float64\n"
     ]
    }
   ],
   "source": [
    "for name, df in dfs.items():\n",
    "    i = file\n",
    "    cols = df.columns\n",
    "    \n",
    "    info = pd.DataFrame(columns=['duplicates_qty', ]+\n",
    "                                      [col_i+'_null_qty' for col_i in cols]+\n",
    "                                      [col_i+'_data_type' for col_i in cols]\n",
    "                        )\n",
    "    print(name)\n",
    "    \n",
    "    info.loc[name, 'duplicates_qty'] = df.duplicated().sum()\n",
    "\n",
    "    for col in cols:\n",
    "        info.loc[name, col+'_null_qty'] = df[col].isnull().sum()\n",
    "        info.loc[name, col+'_data_type'] = df[col].dtype\n",
    "        \n",
    "    print(info.to_string())\n",
    "    "
   ]
  },
  {
   "cell_type": "markdown",
   "metadata": {},
   "source": [
    "__Based in the gathered data we have not found duplicated data and the column data types are valid for our porpuses. Our data do not require further preprocessing steps__"
   ]
  },
  {
   "cell_type": "markdown",
   "metadata": {},
   "source": [
    "### Histograms, KDE and boxplots"
   ]
  },
  {
   "cell_type": "markdown",
   "metadata": {},
   "source": [
    "As we already know plots are one of the best way to summarize data, let's check the histograms for each region"
   ]
  },
  {
   "cell_type": "code",
   "execution_count": 22,
   "metadata": {},
   "outputs": [
    {
     "data": {
      "image/png": "[encoded data removed]",
      "text/plain": [
       "<Figure size 640x480 with 4 Axes>"
      ]
     },
     "metadata": {},
     "output_type": "display_data"
    },
    {
     "data": {
      "image/png": "[encoded data removed]",
      "text/plain": [
       "<Figure size 640x480 with 4 Axes>"
      ]
     },
     "metadata": {},
     "output_type": "display_data"
    },
    {
     "data": {
      "image/png": "[encoded data removed]",
      "text/plain": [
       "<Figure size 640x480 with 4 Axes>"
      ]
     },
     "metadata": {},
     "output_type": "display_data"
    }
   ],
   "source": [
    "for name, df in dfs.items():\n",
    "    hist(name, df)"
   ]
  },
  {
   "cell_type": "markdown",
   "metadata": {},
   "source": [
    "__Based in the gathered data we can conclude:__\n",
    "- Region 0: \n",
    "    - f0: Values mostly ranging from -1 to 2.\n",
    "    - f1: Values mostly ranging from -0.5 to 1. \n",
    "    - f2: Values mostly ranging from -10 to 10. \n",
    "    - product: Values mostly ranging from 0 to 150 in a normal distribution \n",
    "- Region 1: \n",
    "    - f0: Values mostly ranging from -20 to 20. Significative difference comparing to range of values for f0 in region 0\n",
    "    - f1: Values mostly ranging from -20 to 10. Significative difference comparing to range of values for f1 in region 0\n",
    "    - f2: Values mostly ranging from 2 to 5. Significative difference comparing to range of values for f2 in region 0. We can also find 4 intervals with high relative frequency \n",
    "    - product: Values mostly ranging from 0 to 150 with a significant amount of areas with 0 product\n",
    "- Region 2:\n",
    "    - f0: Values mostly ranging from -5 to 5.\n",
    "    - f1: Values mostly ranging from -5 to 5.\n",
    "    - f2: Values mostly ranging from -10 to 10.\n",
    "    - product: Normal distribution ranging mostly from 0 to 160"
   ]
  },
  {
   "cell_type": "code",
   "execution_count": 23,
   "metadata": {},
   "outputs": [
    {
     "data": {
      "image/png": "[encoded data removed]",
      "text/plain": [
       "<Figure size 640x480 with 4 Axes>"
      ]
     },
     "metadata": {},
     "output_type": "display_data"
    },
    {
     "data": {
      "image/png": "[encoded data removed]",
      "text/plain": [
       "<Figure size 640x480 with 4 Axes>"
      ]
     },
     "metadata": {},
     "output_type": "display_data"
    },
    {
     "data": {
      "image/png": "[encoded data removed]",
      "text/plain": [
       "<Figure size 640x480 with 4 Axes>"
      ]
     },
     "metadata": {},
     "output_type": "display_data"
    }
   ],
   "source": [
    "for name, df in dfs.items():\n",
    "    box_plot(name, df)"
   ]
  },
  {
   "cell_type": "markdown",
   "metadata": {},
   "source": [
    "__Based in the gathered data we can conclude from the boxplots:__\n",
    "- Region 0: \n",
    "    - f0: There is not outliers based in the 1.5*IQR \n",
    "    - f1: There is not outliers based in the 1.5*IQR \n",
    "    - f2: There is outliers based in the 1.5*IQR. Outliers have been found at both the upper and lower extremes. The data is slightly skewed to the right\n",
    "    - product: There is not outliers based in the 1.5*IQR, The data is slightly skewed to the right\n",
    "- Region 1: \n",
    "    - f0: There is not outliers based in the 1.5*IQR \n",
    "    - f1: There is outliers based in the 1.5*IQR. Outliers have been found at both the upper and lower extremes.\n",
    "    - f2: There is not outliers based in the 1.5*IQR \n",
    "    - product: There is not outliers based in the 1.5*IQR, The data is slightly skewed to the right\n",
    "- Region 2:\n",
    "    - f0: There is outliers based in the 1.5*IQR. Outliers have been found at both the upper and lower extremes.\n",
    "    - f1: There is outliers based in the 1.5*IQR. Outliers have been found at both the upper and lower extremes.\n",
    "    - f2: There is outliers based in the 1.5*IQR. Outliers have been found at both the upper and lower extremes.\n",
    "    - product: There is not outliers based in the 1.5*IQR."
   ]
  },
  {
   "cell_type": "code",
   "execution_count": 24,
   "metadata": {},
   "outputs": [
    {
     "data": {
      "image/png": "[encoded data removed]",
      "text/plain": [
       "<Figure size 640x480 with 4 Axes>"
      ]
     },
     "metadata": {},
     "output_type": "display_data"
    },
    {
     "data": {
      "image/png": "[encoded data removed]",
      "text/plain": [
       "<Figure size 640x480 with 4 Axes>"
      ]
     },
     "metadata": {},
     "output_type": "display_data"
    },
    {
     "data": {
      "image/png": "[encoded data removed]",
      "text/plain": [
       "<Figure size 640x480 with 4 Axes>"
      ]
     },
     "metadata": {},
     "output_type": "display_data"
    }
   ],
   "source": [
    "for name, df in dfs.items():\n",
    "    kde(name, df)"
   ]
  },
  {
   "cell_type": "markdown",
   "metadata": {},
   "source": [
    "__Based in the gathered data we can conclude from the KDE plots:__\n",
    "\n",
    "- Region 0: \n",
    "    - KDE plot suggests the data has been generated rather than be real data. The peaks shows the maximun concentration of values.\n",
    "- Region 1: \n",
    "    - KDE plot suggests the data has been generated rather than be real data. The peaks shows the maximun concentration of values. Our target (product) has the lower maximun (less than 200) and has the most presence of density peaks.\n",
    "- Region 2:\n",
    "    - KDE plot suggests the data has been generated rather than be real data. The peaks shows the maximun concentration of values."
   ]
  },
  {
   "cell_type": "markdown",
   "metadata": {},
   "source": [
    "## Model implementation"
   ]
  },
  {
   "cell_type": "markdown",
   "metadata": {},
   "source": [
    "### Cross Validation score for Linear Regression Model"
   ]
  },
  {
   "cell_type": "markdown",
   "metadata": {},
   "source": [
    "We will evaluate the model performance using cross validation, the impllementation has been encapsulated in a class called DevLeCrossValidation. When declaring the instance the following attributes are provided: Instance of model that will be used to make predictions, features, target and finally an optional parameter espicify if the validation has to be done with scaled data. \n",
    "To perform the analysis we use the `perform()` method in which we specify the number of sets to perform the validation. We can retrieve the mean of scores using the `get_score()` method"
   ]
  },
  {
   "cell_type": "code",
   "execution_count": 25,
   "metadata": {},
   "outputs": [
    {
     "name": "stdout",
     "output_type": "stream",
     "text": [
      "{'data/geo_data_0.csv': 1420.879787846689, 'data/geo_data_1.csv': 710.8363167873272, 'data/geo_data_2.csv': 1008.7507783076921}\n"
     ]
    }
   ],
   "source": [
    "cv_scores = {}\n",
    "for file, df in dfs.items():\n",
    "    model = LinearRegression()\n",
    "    tar = df['product']\n",
    "    featu = df[FEATURES]\n",
    " \n",
    "    cv = DevLeCrossValidation(model, featu, tar, scaled=True)\n",
    "    cv.perform(5)\n",
    "    cv_scores.update({file:cv.get_score()})\n",
    "    \n",
    "print(cv_scores)\n"
   ]
  },
  {
   "cell_type": "markdown",
   "metadata": {},
   "source": [
    "__As we can see, using the Linear Regression Model the region with best performance is Region 2.__"
   ]
  },
  {
   "cell_type": "markdown",
   "metadata": {},
   "source": [
    "### Making predictions\n"
   ]
  },
  {
   "cell_type": "markdown",
   "metadata": {},
   "source": [
    "Let's add the predicted values to our original dataframes. In this case we will encapsulate the process inside the BlackBoxModel() which encapsulates some methods that will be the process modular."
   ]
  },
  {
   "cell_type": "code",
   "execution_count": 26,
   "metadata": {},
   "outputs": [
    {
     "name": "stdout",
     "output_type": "stream",
     "text": [
      "r2 score for data/geo_data_0.csv: 0.27994321524487786\n",
      "mse score for data/geo_data_0.csv 1412.2129364399243\n",
      "\n",
      "\n",
      "r2 score for data/geo_data_1.csv: 0.9996233978805127\n",
      "mse score for data/geo_data_1.csv 0.7976263360391151\n",
      "\n",
      "\n",
      "r2 score for data/geo_data_2.csv: 0.20524758386040443\n",
      "mse score for data/geo_data_2.csv 1602.3775813236196\n",
      "\n",
      "\n"
     ]
    }
   ],
   "source": [
    "dfs_pred = {}\n",
    "\n",
    "for file, df in dfs.items():\n",
    "    model = BlackBoxModel(LinearRegression())\n",
    "    model.load_data(df[FEATURES], df['product'])\n",
    "    model.scale_data()\n",
    "    model.fit()\n",
    "    print(f'r2 score for {file}:',model.r2_score())\n",
    "    print(f'mse score for {file}', model.mse_score())\n",
    "    print('\\n')\n",
    "    df['product_predicted'] = model.predict(df[FEATURES])\n",
    "    \n",
    "\n",
    "    dfs_pred.update({file:df})"
   ]
  },
  {
   "cell_type": "markdown",
   "metadata": {},
   "source": [
    "__The Linear Regression Model works the best when is trained with data coming from region 2__\n",
    "Now, let's check  how well the predictions where made"
   ]
  },
  {
   "cell_type": "code",
   "execution_count": 27,
   "metadata": {},
   "outputs": [
    {
     "name": "stdout",
     "output_type": "stream",
     "text": [
      "Axes(0.125,0.11;0.775x0.77)\n"
     ]
    },
    {
     "data": {
      "image/png": "[encoded data removed]",
      "text/plain": [
       "<Figure size 640x480 with 1 Axes>"
      ]
     },
     "metadata": {},
     "output_type": "display_data"
    },
    {
     "name": "stdout",
     "output_type": "stream",
     "text": [
      "Axes(0.125,0.11;0.775x0.77)\n"
     ]
    },
    {
     "data": {
      "image/png": "[encoded data removed]",
      "text/plain": [
       "<Figure size 640x480 with 1 Axes>"
      ]
     },
     "metadata": {},
     "output_type": "display_data"
    },
    {
     "name": "stdout",
     "output_type": "stream",
     "text": [
      "Axes(0.125,0.11;0.775x0.77)\n"
     ]
    },
    {
     "data": {
      "image/png": "[encoded data removed]",
      "text/plain": [
       "<Figure size 640x480 with 1 Axes>"
      ]
     },
     "metadata": {},
     "output_type": "display_data"
    }
   ],
   "source": [
    "for file, df in dfs_pred.items():\n",
    "    print(df[['product', 'product_predicted']].plot(kind='scatter', x='product', y='product_predicted'))\n",
    "    plt.title(file)\n",
    "    plt.show()"
   ]
  },
  {
   "cell_type": "markdown",
   "metadata": {},
   "source": [
    "__In both region 0 and 2 there are product predictions ranging from negative values. The predictions in region 1 are bassed in the previous values used in training and as we saw in the histogram there are a limited values that product can take, this means our model only predicts known values__"
   ]
  },
  {
   "cell_type": "markdown",
   "metadata": {},
   "source": [
    "__Based on the information provided in the case description we know that:__\n",
    "Dada la inversión de 100 millones por 200 pozos petrolíferos, de media un pozo petrolífero debe producir al menos un valor de 500,000 dólares en unidades para evitar pérdidas (esto es equivalente a 111.1 unidades). Compara esta cantidad con la cantidad media de reservas en cada región.\n",
    "\n",
    "__We need to check the mean of product in each region, if it meets the condition the exploration could potentially be profitable__"
   ]
  },
  {
   "cell_type": "markdown",
   "metadata": {},
   "source": [
    "Basic calculation of the mean product"
   ]
  },
  {
   "cell_type": "code",
   "execution_count": 28,
   "metadata": {},
   "outputs": [
    {
     "name": "stdout",
     "output_type": "stream",
     "text": [
      "Mean of Predicted oil reserves in data/geo_data_0.csv: 92.50000000000001\n",
      "Mean of Predicted oil reserves in data/geo_data_1.csv: 68.82500000000002\n",
      "Mean of Predicted oil reserves in data/geo_data_2.csv: 95.00000000000004\n"
     ]
    }
   ],
   "source": [
    "for file, df in dfs_pred.items():\n",
    "    print(f'Mean of Predicted oil reserves in {file}:', df['product'].mean())"
   ]
  },
  {
   "cell_type": "markdown",
   "metadata": {},
   "source": [
    "__It could appear the mean of product does not meet the minimun needed in any region, but we are still including some records of very bad zones instead of the mean of the 200 best zones. Let´s do that in the next section__\n"
   ]
  },
  {
   "cell_type": "markdown",
   "metadata": {},
   "source": [
    "Now let's check the net profit for each region"
   ]
  },
  {
   "cell_type": "code",
   "execution_count": 29,
   "metadata": {},
   "outputs": [
    {
     "name": "stdout",
     "output_type": "stream",
     "text": [
      "data/geo_data_0.csv net profit 29489604.11773096\n",
      "data/geo_data_1.csv net profit 24150866.966815084\n",
      "data/geo_data_2.csv net profit 25555785.775059536\n",
      "THE BEST REGION IS:  data/geo_data_0.csv\n"
     ]
    }
   ],
   "source": [
    "top_region = None\n",
    "dfs_reve = {}\n",
    "best_net_profit = 0\n",
    "top_reg_file = ''\n",
    "\n",
    "for file, df in dfs_pred.items():\n",
    "    financial = FinancialEstimatior()\n",
    "    df_rev, net_profit = financial.revenue(df)\n",
    "    dfs_reve.update({file:df_rev})\n",
    "    print(f'{file} net profit {net_profit}')\n",
    "    if  net_profit>best_net_profit:\n",
    "        best_net_profit = net_profit\n",
    "        top_region = df_rev\n",
    "        top_reg_file = file\n",
    "else:\n",
    "    print('THE BEST REGION IS: ', top_reg_file)\n"
   ]
  },
  {
   "cell_type": "code",
   "execution_count": 30,
   "metadata": {},
   "outputs": [
    {
     "name": "stdout",
     "output_type": "stream",
     "text": [
      "data/geo_data_0.csv product    143.877338\n",
      "dtype: float64\n",
      "data/geo_data_1.csv product    137.945408\n",
      "dtype: float64\n",
      "data/geo_data_2.csv product    139.506429\n",
      "dtype: float64\n"
     ]
    }
   ],
   "source": [
    "for file, df in dfs_reve.items():\n",
    "    print(file ,df.loc[:,['product']].mean())"
   ]
  },
  {
   "cell_type": "markdown",
   "metadata": {},
   "source": [
    "__Now all the regions meet the condition to make the project profitable__"
   ]
  },
  {
   "cell_type": "code",
   "execution_count": 31,
   "metadata": {},
   "outputs": [
    {
     "data": {
      "image/png": "[encoded data removed]",
      "text/plain": [
       "<Figure size 640x480 with 1 Axes>"
      ]
     },
     "metadata": {},
     "output_type": "display_data"
    },
    {
     "data": {
      "image/png": "[encoded data removed]",
      "text/plain": [
       "<Figure size 640x480 with 1 Axes>"
      ]
     },
     "metadata": {},
     "output_type": "display_data"
    },
    {
     "data": {
      "image/png": "[encoded data removed]",
      "text/plain": [
       "<Figure size 640x480 with 1 Axes>"
      ]
     },
     "metadata": {},
     "output_type": "display_data"
    }
   ],
   "source": [
    "for file, df in dfs_reve.items():\n",
    "    df['product'].plot(kind='hist')\n",
    "    plt.show()"
   ]
  },
  {
   "cell_type": "markdown",
   "metadata": {},
   "source": [
    "__The histogram for each region is skewed to the right indicating the best zones have been choosen__"
   ]
  },
  {
   "cell_type": "code",
   "execution_count": 32,
   "metadata": {},
   "outputs": [
    {
     "name": "stdout",
     "output_type": "stream",
     "text": [
      "analisis for data/geo_data_0.csv\n",
      "No bankrupt scenario found\n",
      "CONFIDENCE INTERVAL 22039565.46171689 27701760.857504986\n",
      "analisis for data/geo_data_1.csv\n",
      "No bankrupt scenario found\n",
      "CONFIDENCE INTERVAL 24150866.966815084 24150866.966815084\n",
      "analisis for data/geo_data_2.csv\n",
      "No bankrupt scenario found\n",
      "CONFIDENCE INTERVAL 19713586.80142819 25862940.837177813\n"
     ]
    }
   ],
   "source": [
    "state = RandomState(12345)\n",
    "\n",
    "\n",
    "for name, df in dfs_pred.items():\n",
    "    bootstraped_revenues = []\n",
    "    bankrupt_count = 0\n",
    "    region = df\n",
    "    print(f'analisis for {name}')\n",
    "    for i in range(1000):\n",
    "        financial = FinancialEstimatior()\n",
    "        # If the sample grows bigger the probability of bankrupcy decreases\n",
    "        smpl_index = region['product'].sample(n=10000, random_state=state, replace=True).index\n",
    "        rev_df, net_profit = financial.bootstrap_revenue(region, smpl_index)\n",
    "        bootstraped_revenues.append(net_profit)\n",
    "        if net_profit<0:\n",
    "            bankrupt_count += 1\n",
    "    else:\n",
    "        if bankrupt_count != 0:\n",
    "            print(f'Bankrupt based on bootstraped data:', bankrupt_count/1000)\n",
    "        else:\n",
    "            print(f'No bankrupt scenario found')\n",
    "\n",
    "    revs = pd.Series(bootstraped_revenues)\n",
    "    print('CONFIDENCE INTERVAL',revs.quantile(0.05),revs.quantile(0.95))\n",
    "\n",
    "\n",
    "# results = st.ttest_1samp(revs, top_region['revenue'].sum())\n",
    "# print(results.pvalue)"
   ]
  },
  {
   "cell_type": "markdown",
   "metadata": {},
   "source": [
    "__Based in the gathered data we discard region 0 as the best option, the confidence interval does not include the predicted revenue. In the other hand even when region 2 does not have the biggest predicted revenue it falls into the confidence interval making profitable any exploration in that region.__"
   ]
  }
 ],
 "metadata": {
  "ExecuteTimeLog": [
   {
    "duration": 1616,
    "start_time": "2024-07-31T19:07:23.038Z"
   },
   {
    "duration": 22,
    "start_time": "2024-07-31T19:07:31.901Z"
   },
   {
    "duration": 3970,
    "start_time": "2024-07-31T19:07:39.223Z"
   },
   {
    "duration": 9,
    "start_time": "2024-07-31T23:25:05.423Z"
   },
   {
    "duration": 302,
    "start_time": "2024-07-31T23:25:53.817Z"
   },
   {
    "duration": 21,
    "start_time": "2024-07-31T23:25:59.453Z"
   },
   {
    "duration": 49,
    "start_time": "2024-07-31T23:26:06.344Z"
   },
   {
    "duration": 5157,
    "start_time": "2024-07-31T23:26:10.460Z"
   },
   {
    "duration": 4,
    "start_time": "2024-07-31T23:26:17.857Z"
   },
   {
    "duration": 847,
    "start_time": "2024-07-31T23:26:19.198Z"
   },
   {
    "duration": 5,
    "start_time": "2024-07-31T23:27:22.691Z"
   },
   {
    "duration": 5,
    "start_time": "2024-07-31T23:27:23.628Z"
   },
   {
    "duration": 4,
    "start_time": "2024-07-31T23:27:38.194Z"
   },
   {
    "duration": 192,
    "start_time": "2024-07-31T23:27:39.895Z"
   },
   {
    "duration": 138,
    "start_time": "2024-07-31T23:27:57.591Z"
   },
   {
    "duration": 758,
    "start_time": "2024-07-31T23:28:02.301Z"
   },
   {
    "duration": 27,
    "start_time": "2024-07-31T23:31:23.667Z"
   },
   {
    "duration": 24,
    "start_time": "2024-07-31T23:31:26.519Z"
   },
   {
    "duration": 3,
    "start_time": "2024-07-31T23:31:29.588Z"
   },
   {
    "duration": 4,
    "start_time": "2024-07-31T23:31:30.910Z"
   },
   {
    "duration": 1292,
    "start_time": "2024-07-31T23:31:32.052Z"
   },
   {
    "duration": 1299,
    "start_time": "2024-07-31T23:32:35.200Z"
   },
   {
    "duration": 1335,
    "start_time": "2024-07-31T23:32:50.467Z"
   },
   {
    "duration": 5,
    "start_time": "2024-07-31T23:33:04.650Z"
   },
   {
    "duration": 1377,
    "start_time": "2024-07-31T23:33:07.461Z"
   },
   {
    "duration": 1610,
    "start_time": "2024-07-31T23:33:18.586Z"
   },
   {
    "duration": 1355,
    "start_time": "2024-07-31T23:33:24.547Z"
   },
   {
    "duration": 317,
    "start_time": "2024-08-01T01:27:59.778Z"
   },
   {
    "duration": 24,
    "start_time": "2024-08-01T01:28:08.222Z"
   },
   {
    "duration": 1403,
    "start_time": "2024-08-01T01:28:16.023Z"
   },
   {
    "duration": 5,
    "start_time": "2024-08-01T01:28:17.431Z"
   },
   {
    "duration": 1355,
    "start_time": "2024-08-01T01:28:17.440Z"
   },
   {
    "duration": 1188,
    "start_time": "2024-08-01T01:28:18.799Z"
   },
   {
    "duration": 0,
    "start_time": "2024-08-01T01:28:19.991Z"
   },
   {
    "duration": 1209,
    "start_time": "2024-08-01T01:32:07.202Z"
   },
   {
    "duration": 24,
    "start_time": "2024-08-01T01:32:41.178Z"
   },
   {
    "duration": 5,
    "start_time": "2024-08-01T01:32:47.298Z"
   },
   {
    "duration": 5,
    "start_time": "2024-08-01T01:32:50.235Z"
   },
   {
    "duration": 4,
    "start_time": "2024-08-01T01:32:51.184Z"
   },
   {
    "duration": 1274,
    "start_time": "2024-08-01T01:32:55.995Z"
   },
   {
    "duration": 5,
    "start_time": "2024-08-01T01:33:21.289Z"
   },
   {
    "duration": 7,
    "start_time": "2024-08-01T01:33:22.095Z"
   },
   {
    "duration": 2126,
    "start_time": "2024-08-01T01:33:22.730Z"
   },
   {
    "duration": 1456,
    "start_time": "2024-08-01T01:35:16.104Z"
   },
   {
    "duration": 1939,
    "start_time": "2024-08-01T01:36:11.625Z"
   },
   {
    "duration": 1954,
    "start_time": "2024-08-01T01:37:10.319Z"
   },
   {
    "duration": 1587,
    "start_time": "2024-08-01T01:37:33.569Z"
   },
   {
    "duration": 1289,
    "start_time": "2024-08-01T01:42:40.432Z"
   },
   {
    "duration": 1141,
    "start_time": "2024-08-01T01:42:44.802Z"
   },
   {
    "duration": 484,
    "start_time": "2024-08-01T01:47:36.392Z"
   },
   {
    "duration": 1111,
    "start_time": "2024-08-01T01:47:44.919Z"
   },
   {
    "duration": 1077,
    "start_time": "2024-08-01T01:48:16.301Z"
   },
   {
    "duration": 1217,
    "start_time": "2024-08-01T01:48:54.316Z"
   },
   {
    "duration": 1045,
    "start_time": "2024-08-01T01:49:27.484Z"
   },
   {
    "duration": 1043,
    "start_time": "2024-08-01T01:49:38.857Z"
   },
   {
    "duration": 609,
    "start_time": "2024-08-01T01:50:07.289Z"
   },
   {
    "duration": 656,
    "start_time": "2024-08-01T01:51:45.071Z"
   },
   {
    "duration": 598,
    "start_time": "2024-08-01T01:53:19.615Z"
   },
   {
    "duration": 1411,
    "start_time": "2024-08-01T01:56:06.199Z"
   },
   {
    "duration": 5,
    "start_time": "2024-08-01T01:56:07.613Z"
   },
   {
    "duration": 1500,
    "start_time": "2024-08-01T01:56:43.785Z"
   },
   {
    "duration": 4,
    "start_time": "2024-08-01T01:56:45.290Z"
   },
   {
    "duration": 1464,
    "start_time": "2024-08-01T01:58:28.139Z"
   },
   {
    "duration": 6,
    "start_time": "2024-08-01T01:58:29.607Z"
   },
   {
    "duration": 635,
    "start_time": "2024-08-01T01:58:29.617Z"
   },
   {
    "duration": 0,
    "start_time": "2024-08-01T01:58:30.256Z"
   },
   {
    "duration": 0,
    "start_time": "2024-08-01T01:58:30.258Z"
   },
   {
    "duration": 0,
    "start_time": "2024-08-01T01:58:30.262Z"
   },
   {
    "duration": 1485,
    "start_time": "2024-08-01T01:58:50.583Z"
   },
   {
    "duration": 5,
    "start_time": "2024-08-01T01:58:52.072Z"
   },
   {
    "duration": 1405,
    "start_time": "2024-08-01T02:03:04.548Z"
   },
   {
    "duration": 4,
    "start_time": "2024-08-01T02:03:05.956Z"
   },
   {
    "duration": 1417,
    "start_time": "2024-08-01T02:04:05.848Z"
   },
   {
    "duration": 4,
    "start_time": "2024-08-01T02:04:07.268Z"
   },
   {
    "duration": 413991,
    "start_time": "2024-08-01T02:04:07.276Z"
   },
   {
    "duration": 1,
    "start_time": "2024-08-01T02:11:01.270Z"
   },
   {
    "duration": 1,
    "start_time": "2024-08-01T02:11:01.272Z"
   },
   {
    "duration": 0,
    "start_time": "2024-08-01T02:11:01.274Z"
   },
   {
    "duration": 12,
    "start_time": "2024-08-01T02:12:14.576Z"
   },
   {
    "duration": 87,
    "start_time": "2024-08-01T02:12:26.423Z"
   },
   {
    "duration": 5,
    "start_time": "2024-08-01T02:12:36.254Z"
   },
   {
    "duration": 5,
    "start_time": "2024-08-01T02:12:37.193Z"
   },
   {
    "duration": 38,
    "start_time": "2024-08-01T02:12:38.283Z"
   },
   {
    "duration": 435,
    "start_time": "2024-08-01T02:12:57.539Z"
   },
   {
    "duration": 5,
    "start_time": "2024-08-01T02:19:19.607Z"
   },
   {
    "duration": 6,
    "start_time": "2024-08-01T02:19:24.907Z"
   },
   {
    "duration": 4,
    "start_time": "2024-08-01T02:19:27.677Z"
   },
   {
    "duration": 6,
    "start_time": "2024-08-01T02:23:07.087Z"
   },
   {
    "duration": 31,
    "start_time": "2024-08-01T02:23:12.930Z"
   },
   {
    "duration": 9,
    "start_time": "2024-08-01T02:24:14.158Z"
   },
   {
    "duration": 32,
    "start_time": "2024-08-01T02:24:29.163Z"
   },
   {
    "duration": 6,
    "start_time": "2024-08-01T02:24:33.313Z"
   },
   {
    "duration": 28,
    "start_time": "2024-08-01T02:24:34.645Z"
   },
   {
    "duration": 472,
    "start_time": "2024-08-01T02:24:56.413Z"
   },
   {
    "duration": 175,
    "start_time": "2024-08-01T02:33:49.599Z"
   },
   {
    "duration": 179,
    "start_time": "2024-08-01T02:43:47.847Z"
   },
   {
    "duration": 177,
    "start_time": "2024-08-01T02:44:13.744Z"
   },
   {
    "duration": 178,
    "start_time": "2024-08-01T02:45:08.741Z"
   },
   {
    "duration": 1492,
    "start_time": "2024-08-01T02:45:33.211Z"
   },
   {
    "duration": 525,
    "start_time": "2024-08-01T02:45:34.711Z"
   },
   {
    "duration": 0,
    "start_time": "2024-08-01T02:45:35.240Z"
   },
   {
    "duration": 0,
    "start_time": "2024-08-01T02:45:35.242Z"
   },
   {
    "duration": 0,
    "start_time": "2024-08-01T02:45:35.244Z"
   },
   {
    "duration": 0,
    "start_time": "2024-08-01T02:45:35.246Z"
   },
   {
    "duration": 0,
    "start_time": "2024-08-01T02:45:35.249Z"
   },
   {
    "duration": 206,
    "start_time": "2024-08-01T02:45:57.729Z"
   },
   {
    "duration": 403,
    "start_time": "2024-08-01T02:47:17.964Z"
   },
   {
    "duration": 227,
    "start_time": "2024-08-01T02:47:50.319Z"
   },
   {
    "duration": 576,
    "start_time": "2024-08-01T02:47:57.553Z"
   },
   {
    "duration": 562,
    "start_time": "2024-08-01T02:48:05.389Z"
   },
   {
    "duration": 597,
    "start_time": "2024-08-01T02:48:12.237Z"
   },
   {
    "duration": 640,
    "start_time": "2024-08-01T02:48:36.228Z"
   },
   {
    "duration": 8,
    "start_time": "2024-08-01T02:50:37.234Z"
   },
   {
    "duration": 6,
    "start_time": "2024-08-01T02:51:28.466Z"
   },
   {
    "duration": 27,
    "start_time": "2024-08-01T02:51:38.039Z"
   },
   {
    "duration": 924,
    "start_time": "2024-08-01T02:52:04.848Z"
   },
   {
    "duration": 8,
    "start_time": "2024-08-01T02:55:54.365Z"
   },
   {
    "duration": 429,
    "start_time": "2024-08-01T02:55:55.737Z"
   },
   {
    "duration": 389,
    "start_time": "2024-08-01T02:56:14.199Z"
   },
   {
    "duration": 405,
    "start_time": "2024-08-01T02:56:18.571Z"
   },
   {
    "duration": 413,
    "start_time": "2024-08-01T02:56:27.565Z"
   },
   {
    "duration": 398,
    "start_time": "2024-08-01T02:56:36.746Z"
   },
   {
    "duration": 366,
    "start_time": "2024-08-01T02:56:50.882Z"
   },
   {
    "duration": 386,
    "start_time": "2024-08-01T02:56:57.030Z"
   },
   {
    "duration": 399,
    "start_time": "2024-08-01T02:57:36.015Z"
   },
   {
    "duration": 478,
    "start_time": "2024-08-01T02:57:54.096Z"
   },
   {
    "duration": 377,
    "start_time": "2024-08-01T02:58:02.644Z"
   },
   {
    "duration": 7,
    "start_time": "2024-08-01T02:58:11.997Z"
   },
   {
    "duration": 7,
    "start_time": "2024-08-01T02:58:18.777Z"
   },
   {
    "duration": 433,
    "start_time": "2024-08-01T02:58:22.614Z"
   },
   {
    "duration": 395,
    "start_time": "2024-08-01T02:59:03.783Z"
   },
   {
    "duration": 560,
    "start_time": "2024-08-01T02:59:58.243Z"
   },
   {
    "duration": 24,
    "start_time": "2024-08-01T03:03:57.057Z"
   },
   {
    "duration": 360,
    "start_time": "2024-08-01T03:04:18.459Z"
   },
   {
    "duration": 7,
    "start_time": "2024-08-01T03:04:21.257Z"
   },
   {
    "duration": 8,
    "start_time": "2024-08-01T03:04:32.117Z"
   },
   {
    "duration": 4,
    "start_time": "2024-08-01T03:06:42.224Z"
   },
   {
    "duration": 8,
    "start_time": "2024-08-01T03:06:43.967Z"
   },
   {
    "duration": 371,
    "start_time": "2024-08-01T03:06:50.674Z"
   },
   {
    "duration": 205,
    "start_time": "2024-08-01T03:06:52.651Z"
   },
   {
    "duration": 1627,
    "start_time": "2024-08-01T03:06:58.499Z"
   },
   {
    "duration": 1422,
    "start_time": "2024-08-01T03:17:07.978Z"
   },
   {
    "duration": 12,
    "start_time": "2024-08-01T03:17:09.403Z"
   },
   {
    "duration": 0,
    "start_time": "2024-08-01T03:17:09.418Z"
   },
   {
    "duration": 0,
    "start_time": "2024-08-01T03:17:09.420Z"
   },
   {
    "duration": 0,
    "start_time": "2024-08-01T03:17:09.423Z"
   },
   {
    "duration": 0,
    "start_time": "2024-08-01T03:17:09.425Z"
   },
   {
    "duration": 0,
    "start_time": "2024-08-01T03:17:09.428Z"
   },
   {
    "duration": 0,
    "start_time": "2024-08-01T03:17:09.431Z"
   },
   {
    "duration": 0,
    "start_time": "2024-08-01T03:17:09.434Z"
   },
   {
    "duration": 9,
    "start_time": "2024-08-01T03:17:47.891Z"
   },
   {
    "duration": 8,
    "start_time": "2024-08-01T03:17:52.448Z"
   },
   {
    "duration": 8,
    "start_time": "2024-08-01T03:18:00.460Z"
   },
   {
    "duration": 9,
    "start_time": "2024-08-01T03:18:21.582Z"
   },
   {
    "duration": 506,
    "start_time": "2024-08-01T03:18:32.430Z"
   },
   {
    "duration": 1474,
    "start_time": "2024-08-01T03:18:42.068Z"
   },
   {
    "duration": 10,
    "start_time": "2024-08-01T03:18:43.547Z"
   },
   {
    "duration": 434,
    "start_time": "2024-08-01T03:18:43.560Z"
   },
   {
    "duration": 257,
    "start_time": "2024-08-01T03:18:43.998Z"
   },
   {
    "duration": 240,
    "start_time": "2024-08-01T03:18:44.258Z"
   },
   {
    "duration": 0,
    "start_time": "2024-08-01T03:18:44.501Z"
   },
   {
    "duration": 9,
    "start_time": "2024-08-01T03:19:07.795Z"
   },
   {
    "duration": 371,
    "start_time": "2024-08-01T03:19:10.440Z"
   },
   {
    "duration": 227,
    "start_time": "2024-08-01T03:19:11.149Z"
   },
   {
    "duration": 347,
    "start_time": "2024-08-01T03:19:11.477Z"
   },
   {
    "duration": 5,
    "start_time": "2024-08-01T03:20:09.046Z"
   },
   {
    "duration": 10,
    "start_time": "2024-08-01T03:20:10.112Z"
   },
   {
    "duration": 38,
    "start_time": "2024-08-01T03:20:46.575Z"
   },
   {
    "duration": 39,
    "start_time": "2024-08-01T03:21:01.732Z"
   },
   {
    "duration": 48,
    "start_time": "2024-08-01T03:21:11.462Z"
   },
   {
    "duration": 50,
    "start_time": "2024-08-01T03:21:19.476Z"
   },
   {
    "duration": 45,
    "start_time": "2024-08-01T03:21:25.463Z"
   },
   {
    "duration": 37,
    "start_time": "2024-08-01T03:21:34.201Z"
   },
   {
    "duration": 61,
    "start_time": "2024-08-01T03:21:43.462Z"
   },
   {
    "duration": 71,
    "start_time": "2024-08-01T03:21:58.212Z"
   },
   {
    "duration": 61,
    "start_time": "2024-08-01T03:22:13.937Z"
   },
   {
    "duration": 65,
    "start_time": "2024-08-01T03:22:28.611Z"
   },
   {
    "duration": 61,
    "start_time": "2024-08-01T03:23:05.159Z"
   },
   {
    "duration": 66,
    "start_time": "2024-08-01T03:23:32.409Z"
   },
   {
    "duration": 60,
    "start_time": "2024-08-01T03:23:39.028Z"
   },
   {
    "duration": 30,
    "start_time": "2024-08-01T03:24:00.684Z"
   },
   {
    "duration": 27,
    "start_time": "2024-08-01T03:24:03.634Z"
   },
   {
    "duration": 48,
    "start_time": "2024-08-01T03:24:09.235Z"
   },
   {
    "duration": 42,
    "start_time": "2024-08-01T03:24:19.560Z"
   },
   {
    "duration": 5,
    "start_time": "2024-08-01T03:24:29.548Z"
   },
   {
    "duration": 10,
    "start_time": "2024-08-01T03:27:39.687Z"
   },
   {
    "duration": 60,
    "start_time": "2024-08-01T03:28:09.912Z"
   },
   {
    "duration": 10,
    "start_time": "2024-08-01T03:28:20.709Z"
   },
   {
    "duration": 13,
    "start_time": "2024-08-01T03:28:32.453Z"
   },
   {
    "duration": 9,
    "start_time": "2024-08-01T03:29:36.278Z"
   },
   {
    "duration": 10,
    "start_time": "2024-08-01T03:35:46.284Z"
   },
   {
    "duration": 42,
    "start_time": "2024-08-01T03:36:05.880Z"
   },
   {
    "duration": 56,
    "start_time": "2024-08-01T03:36:31.773Z"
   },
   {
    "duration": 628,
    "start_time": "2024-08-01T03:36:43.206Z"
   },
   {
    "duration": 114,
    "start_time": "2024-08-01T03:37:20.922Z"
   },
   {
    "duration": 119,
    "start_time": "2024-08-01T03:37:41.987Z"
   },
   {
    "duration": 189,
    "start_time": "2024-08-01T03:38:03.875Z"
   },
   {
    "duration": 408,
    "start_time": "2024-08-01T03:38:41.649Z"
   },
   {
    "duration": 11,
    "start_time": "2024-08-01T03:39:08.247Z"
   },
   {
    "duration": 666,
    "start_time": "2024-08-01T03:39:14.316Z"
   },
   {
    "duration": 508,
    "start_time": "2024-08-01T03:39:37.109Z"
   },
   {
    "duration": 471,
    "start_time": "2024-08-01T03:39:55.500Z"
   },
   {
    "duration": 681,
    "start_time": "2024-08-01T03:40:02.686Z"
   },
   {
    "duration": 465,
    "start_time": "2024-08-01T03:40:09.162Z"
   },
   {
    "duration": 493,
    "start_time": "2024-08-01T03:40:14.460Z"
   },
   {
    "duration": 391,
    "start_time": "2024-08-01T03:40:29.139Z"
   },
   {
    "duration": 1537,
    "start_time": "2024-08-01T03:40:41.834Z"
   },
   {
    "duration": 1218,
    "start_time": "2024-08-01T03:40:59.136Z"
   },
   {
    "duration": 689,
    "start_time": "2024-08-01T03:43:20.525Z"
   },
   {
    "duration": 677,
    "start_time": "2024-08-01T03:43:41.113Z"
   },
   {
    "duration": 593,
    "start_time": "2024-08-01T03:43:49.613Z"
   },
   {
    "duration": 545,
    "start_time": "2024-08-01T03:43:54.737Z"
   },
   {
    "duration": 545,
    "start_time": "2024-08-01T03:44:01.042Z"
   },
   {
    "duration": 147,
    "start_time": "2024-08-01T03:45:01.383Z"
   },
   {
    "duration": 163,
    "start_time": "2024-08-01T03:45:06.416Z"
   },
   {
    "duration": 185,
    "start_time": "2024-08-01T04:07:47.108Z"
   },
   {
    "duration": 163,
    "start_time": "2024-08-01T04:07:53.058Z"
   },
   {
    "duration": 549,
    "start_time": "2024-08-01T04:08:05.598Z"
   },
   {
    "duration": 158,
    "start_time": "2024-08-01T04:08:10.106Z"
   },
   {
    "duration": 738,
    "start_time": "2024-08-01T04:08:14.856Z"
   },
   {
    "duration": 1477,
    "start_time": "2024-08-01T04:10:59.069Z"
   },
   {
    "duration": 517,
    "start_time": "2024-08-01T04:11:00.550Z"
   },
   {
    "duration": 0,
    "start_time": "2024-08-01T04:11:01.071Z"
   },
   {
    "duration": 0,
    "start_time": "2024-08-01T04:11:01.073Z"
   },
   {
    "duration": 0,
    "start_time": "2024-08-01T04:11:01.075Z"
   },
   {
    "duration": 0,
    "start_time": "2024-08-01T04:11:01.090Z"
   },
   {
    "duration": 10,
    "start_time": "2024-08-01T04:11:21.332Z"
   },
   {
    "duration": 395,
    "start_time": "2024-08-01T04:11:22.924Z"
   },
   {
    "duration": 223,
    "start_time": "2024-08-01T04:11:23.665Z"
   },
   {
    "duration": 915,
    "start_time": "2024-08-01T04:11:24.066Z"
   },
   {
    "duration": 10,
    "start_time": "2024-08-01T04:12:03.889Z"
   },
   {
    "duration": 374,
    "start_time": "2024-08-01T04:12:05.563Z"
   },
   {
    "duration": 234,
    "start_time": "2024-08-01T04:12:06.308Z"
   },
   {
    "duration": 1747,
    "start_time": "2024-08-01T04:12:06.835Z"
   },
   {
    "duration": 10,
    "start_time": "2024-08-01T04:13:16.208Z"
   },
   {
    "duration": 379,
    "start_time": "2024-08-01T04:13:17.574Z"
   },
   {
    "duration": 212,
    "start_time": "2024-08-01T04:13:17.956Z"
   },
   {
    "duration": 1646,
    "start_time": "2024-08-01T04:13:18.452Z"
   },
   {
    "duration": 5104,
    "start_time": "2024-08-02T03:40:18.642Z"
   },
   {
    "duration": 11,
    "start_time": "2024-08-02T03:40:23.750Z"
   },
   {
    "duration": 527,
    "start_time": "2024-08-02T03:40:23.764Z"
   },
   {
    "duration": 224,
    "start_time": "2024-08-02T03:40:24.295Z"
   },
   {
    "duration": 1748,
    "start_time": "2024-08-02T03:40:24.523Z"
   },
   {
    "duration": 551,
    "start_time": "2024-08-02T03:40:26.274Z"
   },
   {
    "duration": 6,
    "start_time": "2024-08-02T03:47:33.089Z"
   },
   {
    "duration": 14,
    "start_time": "2024-08-02T03:47:34.083Z"
   },
   {
    "duration": 11,
    "start_time": "2024-08-02T03:47:43.107Z"
   },
   {
    "duration": 6,
    "start_time": "2024-08-02T03:53:18.221Z"
   },
   {
    "duration": 6,
    "start_time": "2024-08-02T03:57:31.375Z"
   },
   {
    "duration": 6,
    "start_time": "2024-08-02T03:57:35.702Z"
   },
   {
    "duration": 11,
    "start_time": "2024-08-02T04:02:00.665Z"
   },
   {
    "duration": 6,
    "start_time": "2024-08-02T04:02:07.034Z"
   },
   {
    "duration": 10,
    "start_time": "2024-08-02T04:02:08.035Z"
   },
   {
    "duration": 557,
    "start_time": "2024-08-02T04:02:57.058Z"
   },
   {
    "duration": 417,
    "start_time": "2024-08-02T04:03:05.967Z"
   },
   {
    "duration": 567,
    "start_time": "2024-08-02T04:05:28.039Z"
   },
   {
    "duration": 396,
    "start_time": "2024-08-02T04:05:28.984Z"
   },
   {
    "duration": 550,
    "start_time": "2024-08-02T04:05:38.707Z"
   },
   {
    "duration": 649,
    "start_time": "2024-08-02T04:05:43.456Z"
   },
   {
    "duration": 648,
    "start_time": "2024-08-02T04:05:47.642Z"
   },
   {
    "duration": 63,
    "start_time": "2024-08-02T04:06:38.261Z"
   },
   {
    "duration": 601,
    "start_time": "2024-08-02T04:06:49.480Z"
   },
   {
    "duration": 1956,
    "start_time": "2024-08-02T04:08:01.270Z"
   },
   {
    "duration": 625,
    "start_time": "2024-08-02T04:08:24.724Z"
   },
   {
    "duration": 569,
    "start_time": "2024-08-02T04:08:47.265Z"
   },
   {
    "duration": 727,
    "start_time": "2024-08-02T04:09:41.002Z"
   },
   {
    "duration": 605,
    "start_time": "2024-08-02T04:09:47.152Z"
   },
   {
    "duration": 593,
    "start_time": "2024-08-02T04:09:52.228Z"
   },
   {
    "duration": 599,
    "start_time": "2024-08-02T04:09:55.729Z"
   },
   {
    "duration": 683,
    "start_time": "2024-08-02T04:10:01.509Z"
   },
   {
    "duration": 635,
    "start_time": "2024-08-02T04:10:32.658Z"
   },
   {
    "duration": 794,
    "start_time": "2024-08-02T04:10:36.119Z"
   },
   {
    "duration": 593,
    "start_time": "2024-08-02T04:15:19.945Z"
   },
   {
    "duration": 13,
    "start_time": "2024-08-02T04:20:24.330Z"
   },
   {
    "duration": 763,
    "start_time": "2024-08-02T04:20:28.622Z"
   },
   {
    "duration": 2398,
    "start_time": "2024-08-02T04:20:43.843Z"
   },
   {
    "duration": 780,
    "start_time": "2024-08-02T04:24:26.209Z"
   },
   {
    "duration": 14,
    "start_time": "2024-08-02T04:25:22.166Z"
   },
   {
    "duration": 65,
    "start_time": "2024-08-02T04:25:28.362Z"
   },
   {
    "duration": 665,
    "start_time": "2024-08-02T04:29:34.785Z"
   },
   {
    "duration": 663,
    "start_time": "2024-08-02T04:29:43.760Z"
   },
   {
    "duration": 780,
    "start_time": "2024-08-02T04:29:49.181Z"
   },
   {
    "duration": 886,
    "start_time": "2024-08-02T04:32:27.535Z"
   },
   {
    "duration": 765,
    "start_time": "2024-08-02T04:32:42.027Z"
   },
   {
    "duration": 31,
    "start_time": "2024-08-02T04:32:56.977Z"
   },
   {
    "duration": 4,
    "start_time": "2024-08-02T04:33:19.244Z"
   },
   {
    "duration": 818,
    "start_time": "2024-08-02T04:35:01.072Z"
   },
   {
    "duration": 793,
    "start_time": "2024-08-02T04:35:07.037Z"
   },
   {
    "duration": 203,
    "start_time": "2024-08-02T04:35:09.031Z"
   },
   {
    "duration": 31,
    "start_time": "2024-08-02T04:37:29.579Z"
   },
   {
    "duration": 6,
    "start_time": "2024-08-02T04:38:16.359Z"
   },
   {
    "duration": 886,
    "start_time": "2024-08-02T04:38:18.900Z"
   },
   {
    "duration": 370,
    "start_time": "2024-08-02T04:38:19.790Z"
   },
   {
    "duration": 207,
    "start_time": "2024-08-02T04:38:20.224Z"
   },
   {
    "duration": 2253,
    "start_time": "2024-08-02T04:38:20.626Z"
   },
   {
    "duration": 207,
    "start_time": "2024-08-02T04:43:59.510Z"
   },
   {
    "duration": 769,
    "start_time": "2024-08-02T04:45:24.501Z"
   },
   {
    "duration": 773,
    "start_time": "2024-08-02T04:45:55.143Z"
   },
   {
    "duration": 454,
    "start_time": "2024-08-02T04:46:00.840Z"
   },
   {
    "duration": 597,
    "start_time": "2024-08-02T04:46:10.863Z"
   },
   {
    "duration": 24,
    "start_time": "2024-08-02T04:46:36.106Z"
   },
   {
    "duration": 1808,
    "start_time": "2024-08-02T04:46:48.235Z"
   },
   {
    "duration": 621,
    "start_time": "2024-08-02T04:47:35.754Z"
   },
   {
    "duration": 623,
    "start_time": "2024-08-02T04:52:49.720Z"
   },
   {
    "duration": 36359,
    "start_time": "2024-08-02T04:52:53.487Z"
   },
   {
    "duration": 601,
    "start_time": "2024-08-02T04:53:54.347Z"
   },
   {
    "duration": 1782,
    "start_time": "2024-08-02T04:54:23.943Z"
   },
   {
    "duration": 36026,
    "start_time": "2024-08-02T04:54:29.598Z"
   },
   {
    "duration": 2317,
    "start_time": "2024-08-02T04:55:05.627Z"
   },
   {
    "duration": 7,
    "start_time": "2024-08-02T05:00:36.217Z"
   },
   {
    "duration": 30,
    "start_time": "2024-08-02T05:01:26.721Z"
   },
   {
    "duration": 6,
    "start_time": "2024-08-02T05:01:52.750Z"
   },
   {
    "duration": 6,
    "start_time": "2024-08-02T05:03:59.244Z"
   },
   {
    "duration": 3,
    "start_time": "2024-08-02T05:05:15.849Z"
   },
   {
    "duration": 25,
    "start_time": "2024-08-02T05:06:52.435Z"
   },
   {
    "duration": 390,
    "start_time": "2024-08-02T05:06:56.258Z"
   },
   {
    "duration": 205,
    "start_time": "2024-08-02T05:06:57.652Z"
   },
   {
    "duration": 2246,
    "start_time": "2024-08-02T05:06:58.520Z"
   },
   {
    "duration": 1971,
    "start_time": "2024-08-02T05:07:00.770Z"
   },
   {
    "duration": 2261,
    "start_time": "2024-08-02T05:07:54.341Z"
   },
   {
    "duration": 2032,
    "start_time": "2024-08-02T05:07:56.606Z"
   },
   {
    "duration": 35870,
    "start_time": "2024-08-02T05:08:16.967Z"
   },
   {
    "duration": 3,
    "start_time": "2024-08-02T05:25:38.496Z"
   },
   {
    "duration": 6,
    "start_time": "2024-08-02T05:50:40.289Z"
   },
   {
    "duration": 34,
    "start_time": "2024-08-02T05:55:28.303Z"
   },
   {
    "duration": 36,
    "start_time": "2024-08-02T05:55:35.476Z"
   },
   {
    "duration": 75,
    "start_time": "2024-08-02T05:55:47.737Z"
   },
   {
    "duration": 40,
    "start_time": "2024-08-02T05:55:59.742Z"
   },
   {
    "duration": 21,
    "start_time": "2024-08-02T05:56:19.683Z"
   },
   {
    "duration": 25,
    "start_time": "2024-08-02T05:56:24.858Z"
   },
   {
    "duration": 24,
    "start_time": "2024-08-02T05:56:30.530Z"
   },
   {
    "duration": 25,
    "start_time": "2024-08-02T05:56:39.545Z"
   },
   {
    "duration": 13,
    "start_time": "2024-08-02T05:56:47.348Z"
   },
   {
    "duration": 5077,
    "start_time": "2024-08-02T15:59:24.294Z"
   },
   {
    "duration": 504,
    "start_time": "2024-08-02T15:59:29.375Z"
   },
   {
    "duration": 0,
    "start_time": "2024-08-02T15:59:29.882Z"
   },
   {
    "duration": 0,
    "start_time": "2024-08-02T15:59:29.884Z"
   },
   {
    "duration": 0,
    "start_time": "2024-08-02T15:59:29.886Z"
   },
   {
    "duration": 0,
    "start_time": "2024-08-02T15:59:29.889Z"
   },
   {
    "duration": 0,
    "start_time": "2024-08-02T15:59:29.891Z"
   },
   {
    "duration": 0,
    "start_time": "2024-08-02T15:59:29.894Z"
   },
   {
    "duration": 0,
    "start_time": "2024-08-02T15:59:29.896Z"
   },
   {
    "duration": 0,
    "start_time": "2024-08-02T15:59:29.898Z"
   },
   {
    "duration": 0,
    "start_time": "2024-08-02T15:59:29.931Z"
   },
   {
    "duration": 502,
    "start_time": "2024-08-02T16:00:08.234Z"
   },
   {
    "duration": 214,
    "start_time": "2024-08-02T16:00:08.739Z"
   },
   {
    "duration": 891,
    "start_time": "2024-08-02T16:00:08.956Z"
   },
   {
    "duration": 0,
    "start_time": "2024-08-02T16:00:09.850Z"
   },
   {
    "duration": 0,
    "start_time": "2024-08-02T16:00:09.852Z"
   },
   {
    "duration": 49,
    "start_time": "2024-08-02T16:01:15.877Z"
   },
   {
    "duration": 374,
    "start_time": "2024-08-02T16:01:19.508Z"
   },
   {
    "duration": 193,
    "start_time": "2024-08-02T16:01:20.290Z"
   },
   {
    "duration": 2265,
    "start_time": "2024-08-02T16:01:20.702Z"
   },
   {
    "duration": 49,
    "start_time": "2024-08-02T16:01:50.973Z"
   },
   {
    "duration": 359,
    "start_time": "2024-08-02T16:01:54.265Z"
   },
   {
    "duration": 213,
    "start_time": "2024-08-02T16:01:54.627Z"
   },
   {
    "duration": 2310,
    "start_time": "2024-08-02T16:01:54.844Z"
   },
   {
    "duration": 1901,
    "start_time": "2024-08-02T16:01:57.158Z"
   },
   {
    "duration": 36093,
    "start_time": "2024-08-02T16:01:59.061Z"
   },
   {
    "duration": 1499,
    "start_time": "2024-08-05T02:13:18.490Z"
   },
   {
    "duration": 3924,
    "start_time": "2024-08-05T02:13:29.169Z"
   },
   {
    "duration": 6,
    "start_time": "2024-08-05T02:17:38.011Z"
   },
   {
    "duration": 16,
    "start_time": "2024-08-05T03:09:53.630Z"
   },
   {
    "duration": 51,
    "start_time": "2024-08-05T03:19:31.886Z"
   },
   {
    "duration": 8,
    "start_time": "2024-08-05T03:19:37.877Z"
   },
   {
    "duration": 50,
    "start_time": "2024-08-05T03:19:41.107Z"
   },
   {
    "duration": 19,
    "start_time": "2024-08-05T03:19:43.198Z"
   },
   {
    "duration": 20,
    "start_time": "2024-08-05T03:19:54.072Z"
   },
   {
    "duration": 522,
    "start_time": "2024-08-05T03:19:56.337Z"
   },
   {
    "duration": 25,
    "start_time": "2024-08-05T03:21:20.923Z"
   },
   {
    "duration": 12,
    "start_time": "2024-08-05T03:21:30.505Z"
   },
   {
    "duration": 4,
    "start_time": "2024-08-05T03:21:31.338Z"
   },
   {
    "duration": 26,
    "start_time": "2024-08-05T03:23:50.289Z"
   },
   {
    "duration": 28,
    "start_time": "2024-08-05T03:24:01.556Z"
   },
   {
    "duration": 51,
    "start_time": "2024-08-05T03:24:07.753Z"
   },
   {
    "duration": 13,
    "start_time": "2024-08-05T03:24:29.630Z"
   },
   {
    "duration": 30,
    "start_time": "2024-08-05T03:24:30.473Z"
   },
   {
    "duration": 16,
    "start_time": "2024-08-05T03:24:37.973Z"
   },
   {
    "duration": 52,
    "start_time": "2024-08-05T03:24:38.994Z"
   },
   {
    "duration": 13,
    "start_time": "2024-08-05T03:25:00.545Z"
   },
   {
    "duration": 73,
    "start_time": "2024-08-05T03:25:01.025Z"
   },
   {
    "duration": 19,
    "start_time": "2024-08-05T03:25:43.027Z"
   },
   {
    "duration": 200,
    "start_time": "2024-08-05T03:25:43.924Z"
   },
   {
    "duration": 23,
    "start_time": "2024-08-05T03:26:27.202Z"
   },
   {
    "duration": 57,
    "start_time": "2024-08-05T03:26:27.686Z"
   },
   {
    "duration": 442,
    "start_time": "2024-08-05T03:26:28.667Z"
   },
   {
    "duration": 14,
    "start_time": "2024-08-05T03:42:42.508Z"
   },
   {
    "duration": 94,
    "start_time": "2024-08-05T03:42:43.117Z"
   },
   {
    "duration": 16,
    "start_time": "2024-08-05T03:43:39.581Z"
   },
   {
    "duration": 102,
    "start_time": "2024-08-05T03:43:41.238Z"
   },
   {
    "duration": 14,
    "start_time": "2024-08-05T03:44:28.328Z"
   },
   {
    "duration": 139,
    "start_time": "2024-08-05T03:44:29.005Z"
   },
   {
    "duration": 15,
    "start_time": "2024-08-05T03:46:25.307Z"
   },
   {
    "duration": 146,
    "start_time": "2024-08-05T03:46:26.612Z"
   },
   {
    "duration": 14,
    "start_time": "2024-08-05T03:48:04.421Z"
   },
   {
    "duration": 149,
    "start_time": "2024-08-05T03:48:04.894Z"
   },
   {
    "duration": 15,
    "start_time": "2024-08-05T03:48:35.320Z"
   },
   {
    "duration": 147,
    "start_time": "2024-08-05T03:48:35.571Z"
   },
   {
    "duration": 141,
    "start_time": "2024-08-05T03:48:43.988Z"
   },
   {
    "duration": 15,
    "start_time": "2024-08-05T03:49:17.938Z"
   },
   {
    "duration": 169,
    "start_time": "2024-08-05T03:49:18.172Z"
   },
   {
    "duration": 15,
    "start_time": "2024-08-05T03:49:33.912Z"
   },
   {
    "duration": 210,
    "start_time": "2024-08-05T03:49:36.413Z"
   },
   {
    "duration": 19,
    "start_time": "2024-08-05T03:50:07.120Z"
   },
   {
    "duration": 164,
    "start_time": "2024-08-05T03:50:07.359Z"
   },
   {
    "duration": 15,
    "start_time": "2024-08-05T03:50:47.327Z"
   },
   {
    "duration": 260,
    "start_time": "2024-08-05T03:50:48.635Z"
   },
   {
    "duration": 15,
    "start_time": "2024-08-05T03:50:55.983Z"
   },
   {
    "duration": 174,
    "start_time": "2024-08-05T03:50:56.186Z"
   },
   {
    "duration": 15,
    "start_time": "2024-08-05T03:53:19.576Z"
   },
   {
    "duration": 114,
    "start_time": "2024-08-05T03:53:20.142Z"
   },
   {
    "duration": 17,
    "start_time": "2024-08-05T03:53:40.884Z"
   },
   {
    "duration": 123,
    "start_time": "2024-08-05T03:53:41.405Z"
   },
   {
    "duration": 15,
    "start_time": "2024-08-05T03:53:50.795Z"
   },
   {
    "duration": 99,
    "start_time": "2024-08-05T03:53:51.263Z"
   },
   {
    "duration": 16,
    "start_time": "2024-08-05T03:54:03.808Z"
   },
   {
    "duration": 94,
    "start_time": "2024-08-05T03:54:04.542Z"
   },
   {
    "duration": 15,
    "start_time": "2024-08-05T03:54:26.615Z"
   },
   {
    "duration": 94,
    "start_time": "2024-08-05T03:54:27.555Z"
   },
   {
    "duration": 16,
    "start_time": "2024-08-05T03:55:05.885Z"
   },
   {
    "duration": 90,
    "start_time": "2024-08-05T03:55:06.481Z"
   },
   {
    "duration": 17,
    "start_time": "2024-08-05T03:56:05.087Z"
   },
   {
    "duration": 117,
    "start_time": "2024-08-05T03:56:05.596Z"
   },
   {
    "duration": 17,
    "start_time": "2024-08-05T03:56:20.174Z"
   },
   {
    "duration": 115,
    "start_time": "2024-08-05T03:56:20.860Z"
   },
   {
    "duration": 18,
    "start_time": "2024-08-05T03:57:15.461Z"
   },
   {
    "duration": 297,
    "start_time": "2024-08-05T03:57:17.407Z"
   },
   {
    "duration": 18,
    "start_time": "2024-08-05T03:57:44.208Z"
   },
   {
    "duration": 332,
    "start_time": "2024-08-05T03:57:44.904Z"
   },
   {
    "duration": 18,
    "start_time": "2024-08-05T03:58:09.690Z"
   },
   {
    "duration": 70,
    "start_time": "2024-08-05T03:58:10.195Z"
   },
   {
    "duration": 20,
    "start_time": "2024-08-05T03:58:16.659Z"
   },
   {
    "duration": 20,
    "start_time": "2024-08-05T03:58:18.881Z"
   },
   {
    "duration": 22,
    "start_time": "2024-08-05T03:58:29.661Z"
   },
   {
    "duration": 22,
    "start_time": "2024-08-05T03:58:30.160Z"
   },
   {
    "duration": 314,
    "start_time": "2024-08-05T03:59:31.656Z"
   },
   {
    "duration": 72,
    "start_time": "2024-08-05T04:00:05.332Z"
   },
   {
    "duration": 47,
    "start_time": "2024-08-05T04:12:14.787Z"
   },
   {
    "duration": 607,
    "start_time": "2024-08-05T04:12:18.383Z"
   },
   {
    "duration": 19,
    "start_time": "2024-08-05T04:13:24.893Z"
   },
   {
    "duration": 18,
    "start_time": "2024-08-05T04:13:32.968Z"
   },
   {
    "duration": 18,
    "start_time": "2024-08-05T04:13:39.015Z"
   },
   {
    "duration": 20,
    "start_time": "2024-08-05T04:14:29.119Z"
   },
   {
    "duration": 19,
    "start_time": "2024-08-05T04:17:45.472Z"
   },
   {
    "duration": 70,
    "start_time": "2024-08-05T04:17:57.323Z"
   },
   {
    "duration": 19,
    "start_time": "2024-08-05T04:18:08.882Z"
   },
   {
    "duration": 167,
    "start_time": "2024-08-05T04:18:10.044Z"
   },
   {
    "duration": 20,
    "start_time": "2024-08-05T04:18:22.920Z"
   },
   {
    "duration": 91,
    "start_time": "2024-08-05T04:18:23.328Z"
   },
   {
    "duration": 23,
    "start_time": "2024-08-05T04:18:30.164Z"
   },
   {
    "duration": 74,
    "start_time": "2024-08-05T04:18:30.611Z"
   },
   {
    "duration": 23,
    "start_time": "2024-08-05T04:18:51.350Z"
   },
   {
    "duration": 91,
    "start_time": "2024-08-05T04:18:51.771Z"
   },
   {
    "duration": 377,
    "start_time": "2024-08-05T04:19:26.002Z"
   },
   {
    "duration": 193,
    "start_time": "2024-08-05T04:19:26.881Z"
   },
   {
    "duration": 20,
    "start_time": "2024-08-05T04:20:27.362Z"
   },
   {
    "duration": 16,
    "start_time": "2024-08-05T04:20:33.334Z"
   },
   {
    "duration": 219,
    "start_time": "2024-08-05T04:20:41.834Z"
   },
   {
    "duration": 20,
    "start_time": "2024-08-05T04:21:06.494Z"
   },
   {
    "duration": 173,
    "start_time": "2024-08-05T04:21:06.881Z"
   },
   {
    "duration": 19,
    "start_time": "2024-08-05T04:21:15.588Z"
   },
   {
    "duration": 203,
    "start_time": "2024-08-05T04:21:15.845Z"
   },
   {
    "duration": 21,
    "start_time": "2024-08-05T04:21:33.372Z"
   },
   {
    "duration": 168,
    "start_time": "2024-08-05T04:21:33.793Z"
   },
   {
    "duration": 6,
    "start_time": "2024-08-05T04:21:43.761Z"
   },
   {
    "duration": 212,
    "start_time": "2024-08-05T04:21:53.925Z"
   },
   {
    "duration": 21,
    "start_time": "2024-08-05T04:22:10.605Z"
   },
   {
    "duration": 393,
    "start_time": "2024-08-05T04:22:10.955Z"
   },
   {
    "duration": 263,
    "start_time": "2024-08-05T04:22:33.587Z"
   },
   {
    "duration": 20,
    "start_time": "2024-08-05T04:23:34.074Z"
   },
   {
    "duration": 236,
    "start_time": "2024-08-05T04:23:34.724Z"
   },
   {
    "duration": 20,
    "start_time": "2024-08-05T04:23:42.575Z"
   },
   {
    "duration": 319,
    "start_time": "2024-08-05T04:23:42.923Z"
   },
   {
    "duration": 425,
    "start_time": "2024-08-05T04:23:51.526Z"
   },
   {
    "duration": 378,
    "start_time": "2024-08-05T04:24:04.960Z"
   },
   {
    "duration": 27,
    "start_time": "2024-08-05T04:24:11.332Z"
   },
   {
    "duration": 476,
    "start_time": "2024-08-05T04:24:11.571Z"
   },
   {
    "duration": 20,
    "start_time": "2024-08-05T04:24:40.380Z"
   },
   {
    "duration": 286,
    "start_time": "2024-08-05T04:24:40.664Z"
   },
   {
    "duration": 369,
    "start_time": "2024-08-05T16:44:13.898Z"
   },
   {
    "duration": 46,
    "start_time": "2024-08-05T16:44:23.572Z"
   },
   {
    "duration": 106,
    "start_time": "2024-08-05T16:44:28.521Z"
   },
   {
    "duration": 29,
    "start_time": "2024-08-05T16:44:38.398Z"
   },
   {
    "duration": 5102,
    "start_time": "2024-08-05T16:44:53.005Z"
   },
   {
    "duration": 154,
    "start_time": "2024-08-05T16:45:01.079Z"
   },
   {
    "duration": 13,
    "start_time": "2024-08-05T16:45:10.283Z"
   },
   {
    "duration": 23,
    "start_time": "2024-08-05T16:45:12.780Z"
   },
   {
    "duration": 26,
    "start_time": "2024-08-05T16:48:09.589Z"
   },
   {
    "duration": 29,
    "start_time": "2024-08-05T16:48:18.045Z"
   },
   {
    "duration": 503,
    "start_time": "2024-08-05T16:48:22.505Z"
   },
   {
    "duration": 35,
    "start_time": "2024-08-05T16:48:26.054Z"
   },
   {
    "duration": 25,
    "start_time": "2024-08-05T16:49:07.454Z"
   },
   {
    "duration": 36,
    "start_time": "2024-08-05T16:49:08.902Z"
   },
   {
    "duration": 26,
    "start_time": "2024-08-05T16:49:25.261Z"
   },
   {
    "duration": 25,
    "start_time": "2024-08-05T16:50:02.451Z"
   },
   {
    "duration": 35,
    "start_time": "2024-08-05T16:50:02.791Z"
   },
   {
    "duration": 24,
    "start_time": "2024-08-05T16:50:27.094Z"
   },
   {
    "duration": 90,
    "start_time": "2024-08-05T16:50:27.376Z"
   },
   {
    "duration": 27,
    "start_time": "2024-08-05T16:50:55.675Z"
   },
   {
    "duration": 92,
    "start_time": "2024-08-05T16:50:56.283Z"
   },
   {
    "duration": 24,
    "start_time": "2024-08-05T16:51:38.582Z"
   },
   {
    "duration": 216,
    "start_time": "2024-08-05T16:51:38.922Z"
   },
   {
    "duration": 23,
    "start_time": "2024-08-05T16:52:18.444Z"
   },
   {
    "duration": 92,
    "start_time": "2024-08-05T16:52:18.740Z"
   },
   {
    "duration": 25,
    "start_time": "2024-08-05T16:52:40.012Z"
   },
   {
    "duration": 349,
    "start_time": "2024-08-05T16:52:40.372Z"
   },
   {
    "duration": 1913,
    "start_time": "2024-08-05T16:54:53.431Z"
   },
   {
    "duration": 420,
    "start_time": "2024-08-05T16:55:10.600Z"
   },
   {
    "duration": 260,
    "start_time": "2024-08-05T16:55:25.185Z"
   },
   {
    "duration": 104,
    "start_time": "2024-08-05T16:56:57.706Z"
   },
   {
    "duration": 230,
    "start_time": "2024-08-05T16:57:01.285Z"
   },
   {
    "duration": 296,
    "start_time": "2024-08-05T16:57:04.711Z"
   },
   {
    "duration": 594,
    "start_time": "2024-08-05T16:57:08.917Z"
   },
   {
    "duration": 703,
    "start_time": "2024-08-05T16:57:14.707Z"
   },
   {
    "duration": 752,
    "start_time": "2024-08-05T16:57:19.259Z"
   },
   {
    "duration": 303,
    "start_time": "2024-08-05T16:57:24.726Z"
   },
   {
    "duration": 5034,
    "start_time": "2024-08-06T20:41:18.581Z"
   },
   {
    "duration": 18,
    "start_time": "2024-08-06T20:41:23.619Z"
   },
   {
    "duration": 25,
    "start_time": "2024-08-06T20:41:23.640Z"
   },
   {
    "duration": 0,
    "start_time": "2024-08-06T20:41:23.668Z"
   },
   {
    "duration": 0,
    "start_time": "2024-08-06T20:41:23.674Z"
   },
   {
    "duration": 0,
    "start_time": "2024-08-06T20:41:23.677Z"
   },
   {
    "duration": 0,
    "start_time": "2024-08-06T20:41:23.679Z"
   },
   {
    "duration": 0,
    "start_time": "2024-08-06T20:41:23.681Z"
   },
   {
    "duration": 0,
    "start_time": "2024-08-06T20:41:23.683Z"
   },
   {
    "duration": 0,
    "start_time": "2024-08-06T20:41:23.686Z"
   },
   {
    "duration": 0,
    "start_time": "2024-08-06T20:41:23.687Z"
   },
   {
    "duration": 0,
    "start_time": "2024-08-06T20:41:23.690Z"
   },
   {
    "duration": 0,
    "start_time": "2024-08-06T20:41:23.732Z"
   },
   {
    "duration": 6,
    "start_time": "2024-08-06T21:14:43.002Z"
   },
   {
    "duration": 535,
    "start_time": "2024-08-06T21:34:18.785Z"
   },
   {
    "duration": 25,
    "start_time": "2024-08-06T21:34:24.716Z"
   },
   {
    "duration": 24,
    "start_time": "2024-08-06T21:36:19.004Z"
   },
   {
    "duration": 489,
    "start_time": "2024-08-06T21:36:23.372Z"
   },
   {
    "duration": 273,
    "start_time": "2024-08-06T21:36:25.265Z"
   },
   {
    "duration": 2422,
    "start_time": "2024-08-06T21:36:26.203Z"
   },
   {
    "duration": 1997,
    "start_time": "2024-08-06T21:36:28.629Z"
   },
   {
    "duration": 36234,
    "start_time": "2024-08-06T21:36:30.628Z"
   },
   {
    "duration": 27,
    "start_time": "2024-08-06T21:55:09.810Z"
   },
   {
    "duration": 5159,
    "start_time": "2024-08-20T01:17:36.409Z"
   },
   {
    "duration": 14,
    "start_time": "2024-08-20T01:17:41.572Z"
   },
   {
    "duration": 37,
    "start_time": "2024-08-20T01:17:41.589Z"
   },
   {
    "duration": 38,
    "start_time": "2024-08-20T01:17:41.631Z"
   },
   {
    "duration": 433,
    "start_time": "2024-08-20T01:17:41.671Z"
   },
   {
    "duration": 0,
    "start_time": "2024-08-20T01:17:42.107Z"
   },
   {
    "duration": 0,
    "start_time": "2024-08-20T01:17:42.109Z"
   },
   {
    "duration": 0,
    "start_time": "2024-08-20T01:17:42.111Z"
   },
   {
    "duration": 0,
    "start_time": "2024-08-20T01:17:42.113Z"
   },
   {
    "duration": 0,
    "start_time": "2024-08-20T01:17:42.115Z"
   },
   {
    "duration": 0,
    "start_time": "2024-08-20T01:17:42.117Z"
   },
   {
    "duration": 0,
    "start_time": "2024-08-20T01:17:42.120Z"
   },
   {
    "duration": 0,
    "start_time": "2024-08-20T01:17:42.121Z"
   },
   {
    "duration": 0,
    "start_time": "2024-08-20T01:17:42.123Z"
   },
   {
    "duration": 5166,
    "start_time": "2024-08-21T00:00:48.025Z"
   },
   {
    "duration": 19,
    "start_time": "2024-08-21T00:00:53.195Z"
   },
   {
    "duration": 40,
    "start_time": "2024-08-21T00:00:53.217Z"
   },
   {
    "duration": 11,
    "start_time": "2024-08-21T00:00:54.059Z"
   },
   {
    "duration": 8,
    "start_time": "2024-08-21T00:01:32.163Z"
   },
   {
    "duration": 15,
    "start_time": "2024-08-21T00:01:34.319Z"
   },
   {
    "duration": 49,
    "start_time": "2024-08-21T00:01:35.343Z"
   },
   {
    "duration": 8,
    "start_time": "2024-08-21T00:01:36.134Z"
   },
   {
    "duration": 12,
    "start_time": "2024-08-21T00:01:51.918Z"
   },
   {
    "duration": 14,
    "start_time": "2024-08-21T00:01:53.519Z"
   },
   {
    "duration": 52,
    "start_time": "2024-08-21T00:01:54.611Z"
   },
   {
    "duration": 6,
    "start_time": "2024-08-21T00:01:55.376Z"
   },
   {
    "duration": 7,
    "start_time": "2024-08-21T00:02:13.252Z"
   },
   {
    "duration": 17,
    "start_time": "2024-08-21T00:02:14.402Z"
   },
   {
    "duration": 45,
    "start_time": "2024-08-21T00:02:15.455Z"
   },
   {
    "duration": 531,
    "start_time": "2024-08-21T00:02:16.217Z"
   },
   {
    "duration": 217,
    "start_time": "2024-08-21T00:02:19.903Z"
   },
   {
    "duration": 2420,
    "start_time": "2024-08-21T00:02:20.818Z"
   },
   {
    "duration": 1828,
    "start_time": "2024-08-21T00:02:23.242Z"
   },
   {
    "duration": 36791,
    "start_time": "2024-08-21T00:02:25.075Z"
   },
   {
    "duration": 1548,
    "start_time": "2024-08-21T00:03:01.872Z"
   },
   {
    "duration": 413,
    "start_time": "2024-08-21T00:03:03.423Z"
   },
   {
    "duration": 1779,
    "start_time": "2024-08-21T00:03:03.844Z"
   },
   {
    "duration": 10,
    "start_time": "2024-08-21T00:03:05.626Z"
   },
   {
    "duration": 116,
    "start_time": "2024-08-21T00:03:05.639Z"
   },
   {
    "duration": 7012,
    "start_time": "2024-08-21T00:03:05.758Z"
   },
   {
    "duration": 14,
    "start_time": "2024-08-26T14:43:08.715Z"
   },
   {
    "duration": 5,
    "start_time": "2024-08-26T14:43:16.759Z"
   },
   {
    "duration": 305,
    "start_time": "2024-08-26T14:43:22.860Z"
   },
   {
    "duration": 5064,
    "start_time": "2024-08-26T14:44:16.929Z"
   },
   {
    "duration": 493,
    "start_time": "2024-08-26T14:44:31.498Z"
   },
   {
    "duration": 134,
    "start_time": "2024-08-26T14:44:34.674Z"
   },
   {
    "duration": 23,
    "start_time": "2024-08-26T14:45:35.698Z"
   },
   {
    "duration": 15,
    "start_time": "2024-08-26T14:45:41.433Z"
   },
   {
    "duration": 199,
    "start_time": "2024-08-26T14:45:49.571Z"
   },
   {
    "duration": 9,
    "start_time": "2024-08-26T14:46:30.743Z"
   },
   {
    "duration": 404,
    "start_time": "2024-08-26T14:46:42.810Z"
   },
   {
    "duration": 36,
    "start_time": "2024-08-26T14:48:22.323Z"
   },
   {
    "duration": 176,
    "start_time": "2024-08-26T14:48:26.481Z"
   },
   {
    "duration": 168,
    "start_time": "2024-08-26T14:48:36.347Z"
   },
   {
    "duration": 173,
    "start_time": "2024-08-26T14:48:40.545Z"
   },
   {
    "duration": 208,
    "start_time": "2024-08-26T14:49:34.463Z"
   },
   {
    "duration": 1879,
    "start_time": "2024-08-26T14:49:42.879Z"
   },
   {
    "duration": 13,
    "start_time": "2024-08-26T14:50:32.712Z"
   },
   {
    "duration": 6,
    "start_time": "2024-08-26T15:01:28.840Z"
   },
   {
    "duration": 2188,
    "start_time": "2024-08-26T15:01:34.560Z"
   },
   {
    "duration": 2777,
    "start_time": "2024-08-28T23:36:36.623Z"
   },
   {
    "duration": 7,
    "start_time": "2024-08-28T23:36:39.403Z"
   },
   {
    "duration": 20,
    "start_time": "2024-08-28T23:36:39.411Z"
   },
   {
    "duration": 339,
    "start_time": "2024-08-28T23:36:39.433Z"
   },
   {
    "duration": 287,
    "start_time": "2024-08-28T23:36:39.775Z"
   },
   {
    "duration": 0,
    "start_time": "2024-08-28T23:36:40.064Z"
   },
   {
    "duration": 0,
    "start_time": "2024-08-28T23:36:40.065Z"
   },
   {
    "duration": 0,
    "start_time": "2024-08-28T23:36:40.071Z"
   },
   {
    "duration": 0,
    "start_time": "2024-08-28T23:36:40.072Z"
   },
   {
    "duration": 0,
    "start_time": "2024-08-28T23:36:40.074Z"
   },
   {
    "duration": 1,
    "start_time": "2024-08-28T23:36:40.075Z"
   },
   {
    "duration": 0,
    "start_time": "2024-08-28T23:36:40.077Z"
   },
   {
    "duration": 0,
    "start_time": "2024-08-28T23:36:40.079Z"
   },
   {
    "duration": 0,
    "start_time": "2024-08-28T23:36:40.080Z"
   },
   {
    "duration": 117,
    "start_time": "2024-08-28T23:37:38.170Z"
   },
   {
    "duration": 1393,
    "start_time": "2024-08-28T23:37:44.808Z"
   },
   {
    "duration": 1206,
    "start_time": "2024-08-28T23:37:46.204Z"
   },
   {
    "duration": 18076,
    "start_time": "2024-08-28T23:37:47.411Z"
   },
   {
    "duration": 1115,
    "start_time": "2024-08-28T23:38:24.656Z"
   },
   {
    "duration": 224,
    "start_time": "2024-08-28T23:38:25.774Z"
   },
   {
    "duration": 996,
    "start_time": "2024-08-28T23:38:26.000Z"
   },
   {
    "duration": 5,
    "start_time": "2024-08-28T23:39:45.174Z"
   },
   {
    "duration": 63,
    "start_time": "2024-08-28T23:39:48.253Z"
   },
   {
    "duration": 3599,
    "start_time": "2024-08-28T23:39:51.363Z"
   },
   {
    "duration": 921,
    "start_time": "2024-08-28T23:49:46.588Z"
   },
   {
    "duration": 7,
    "start_time": "2024-08-28T23:49:47.511Z"
   },
   {
    "duration": 81,
    "start_time": "2024-08-28T23:49:47.520Z"
   },
   {
    "duration": 228,
    "start_time": "2024-08-28T23:49:47.604Z"
   },
   {
    "duration": 111,
    "start_time": "2024-08-28T23:49:47.834Z"
   },
   {
    "duration": 1303,
    "start_time": "2024-08-28T23:49:47.948Z"
   },
   {
    "duration": 1120,
    "start_time": "2024-08-28T23:49:49.254Z"
   },
   {
    "duration": 17559,
    "start_time": "2024-08-28T23:49:50.376Z"
   },
   {
    "duration": 1237,
    "start_time": "2024-08-28T23:50:07.936Z"
   },
   {
    "duration": 302,
    "start_time": "2024-08-28T23:50:09.177Z"
   },
   {
    "duration": 925,
    "start_time": "2024-08-28T23:50:09.481Z"
   },
   {
    "duration": 6,
    "start_time": "2024-08-28T23:50:10.408Z"
   },
   {
    "duration": 75,
    "start_time": "2024-08-28T23:50:10.416Z"
   },
   {
    "duration": 3672,
    "start_time": "2024-08-28T23:50:10.493Z"
   },
   {
    "duration": 64,
    "start_time": "2024-08-28T23:58:44.622Z"
   },
   {
    "duration": 6,
    "start_time": "2024-08-29T00:00:46.086Z"
   },
   {
    "duration": 218,
    "start_time": "2024-08-29T00:03:10.540Z"
   },
   {
    "duration": 14,
    "start_time": "2024-08-29T00:03:20.212Z"
   },
   {
    "duration": 626,
    "start_time": "2024-08-29T00:03:26.568Z"
   },
   {
    "duration": 4,
    "start_time": "2024-08-29T00:03:39.873Z"
   },
   {
    "duration": 65,
    "start_time": "2024-08-29T00:03:43.881Z"
   },
   {
    "duration": 8,
    "start_time": "2024-08-29T00:03:47.444Z"
   },
   {
    "duration": 6,
    "start_time": "2024-08-29T00:06:43.663Z"
   },
   {
    "duration": 60,
    "start_time": "2024-08-29T00:06:47.428Z"
   },
   {
    "duration": 134,
    "start_time": "2024-08-29T00:10:00.092Z"
   },
   {
    "duration": 318,
    "start_time": "2024-08-29T00:10:06.949Z"
   },
   {
    "duration": 320,
    "start_time": "2024-08-29T00:17:11.887Z"
   },
   {
    "duration": 10468,
    "start_time": "2024-08-29T00:18:10.505Z"
   },
   {
    "duration": 7701,
    "start_time": "2024-08-29T00:21:21.859Z"
   },
   {
    "duration": 5471,
    "start_time": "2024-08-29T00:21:35.848Z"
   },
   {
    "duration": 4822,
    "start_time": "2024-08-29T00:22:38.006Z"
   },
   {
    "duration": 4978,
    "start_time": "2024-08-29T00:23:07.877Z"
   },
   {
    "duration": 5272,
    "start_time": "2024-08-29T00:23:31.286Z"
   },
   {
    "duration": 10346,
    "start_time": "2024-08-29T00:23:46.792Z"
   },
   {
    "duration": 901,
    "start_time": "2024-08-31T03:09:21.409Z"
   },
   {
    "duration": 8,
    "start_time": "2024-08-31T03:09:22.312Z"
   },
   {
    "duration": 70,
    "start_time": "2024-08-31T03:09:22.322Z"
   },
   {
    "duration": 349,
    "start_time": "2024-08-31T03:09:22.394Z"
   },
   {
    "duration": 110,
    "start_time": "2024-08-31T03:09:22.745Z"
   },
   {
    "duration": 1384,
    "start_time": "2024-08-31T03:09:22.857Z"
   },
   {
    "duration": 1081,
    "start_time": "2024-08-31T03:09:24.242Z"
   },
   {
    "duration": 17428,
    "start_time": "2024-08-31T03:09:25.324Z"
   },
   {
    "duration": 1150,
    "start_time": "2024-08-31T03:09:42.754Z"
   },
   {
    "duration": 293,
    "start_time": "2024-08-31T03:09:43.910Z"
   },
   {
    "duration": 948,
    "start_time": "2024-08-31T03:09:44.208Z"
   },
   {
    "duration": 5,
    "start_time": "2024-08-31T03:09:45.158Z"
   },
   {
    "duration": 138,
    "start_time": "2024-08-31T03:09:45.165Z"
   },
   {
    "duration": 7,
    "start_time": "2024-08-31T03:09:45.305Z"
   },
   {
    "duration": 317,
    "start_time": "2024-08-31T03:09:45.314Z"
   },
   {
    "duration": 9498,
    "start_time": "2024-08-31T03:09:45.632Z"
   }
  ],
  "kernelspec": {
   "display_name": "agents_env",
   "language": "python",
   "name": "python3"
  },
  "language_info": {
   "codemirror_mode": {
    "name": "ipython",
    "version": 3
   },
   "file_extension": ".py",
   "mimetype": "text/x-python",
   "name": "python",
   "nbconvert_exporter": "python",
   "pygments_lexer": "ipython3",
   "version": "3.12.9"
  },
  "toc": {
   "base_numbering": 1,
   "nav_menu": {},
   "number_sections": true,
   "sideBar": true,
   "skip_h1_title": true,
   "title_cell": "Table of Contents",
   "title_sidebar": "Contents",
   "toc_cell": false,
   "toc_position": {},
   "toc_section_display": true,
   "toc_window_display": false
  }
 },
 "nbformat": 4,
 "nbformat_minor": 2
}
